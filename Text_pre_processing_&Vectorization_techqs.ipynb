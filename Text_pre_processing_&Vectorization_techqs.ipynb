{
  "cells": [
    {
      "cell_type": "markdown",
      "metadata": {
        "id": "view-in-github",
        "colab_type": "text"
      },
      "source": [
        "<a href=\"https://colab.research.google.com/github/veenagrace12/Natural-Language-Processing-NLP/blob/main/Text_pre_processing_%26Vectorization_techqs.ipynb\" target=\"_parent\"><img src=\"https://colab.research.google.com/assets/colab-badge.svg\" alt=\"Open In Colab\"/></a>"
      ]
    },
    {
      "cell_type": "markdown",
      "id": "17f36cad",
      "metadata": {
        "id": "17f36cad"
      },
      "source": [
        "# Working with Text Data -- Bag of Words "
      ]
    },
    {
      "cell_type": "markdown",
      "id": "d0a6cd04",
      "metadata": {
        "id": "d0a6cd04"
      },
      "source": [
        "## Pre-Processing steps & Convert Text to Numerical Vector"
      ]
    },
    {
      "cell_type": "markdown",
      "id": "fa35538d",
      "metadata": {
        "id": "fa35538d"
      },
      "source": [
        "### Text Data"
      ]
    },
    {
      "cell_type": "markdown",
      "id": "b153d09e",
      "metadata": {
        "id": "b153d09e"
      },
      "source": [
        "\n",
        "Text Analysis is a major application field for machine learning algorithms. Some of the major application areas of NLP are:\n",
        "\n",
        "    1. Spell Checker, Keyword Search etc,\n",
        "    2. Sentiment Analysis, Spam Classification\n",
        "    3. Machine Translation\n",
        "    4. Chatbots/Dialog Systems\n",
        "    5. Question Answering Systems etc..,\n",
        "    \n",
        "However the raw data, a sequence of symbols cannot be fed directly to the algorithms themselves as most of them expect numerical feature vectors with a fixed size rather than the raw text documents with variable length.\n",
        "        "
      ]
    },
    {
      "cell_type": "markdown",
      "id": "c86819c7",
      "metadata": {
        "id": "c86819c7"
      },
      "source": [
        "### Why NLP is hard?\n",
        "\n",
        "  1. Complexity of representation\n",
        "  2. Ambiguity in Natural Language\n"
      ]
    },
    {
      "cell_type": "markdown",
      "id": "31944b2f",
      "metadata": {
        "id": "31944b2f"
      },
      "source": [
        "### Text Preprocessing\n",
        "  1. Tokenisation\n",
        "  2. Removing special characters\n",
        "  3. Convert sentence into lower case\n",
        "  4. Removing stop words\n",
        "  5. Stemming or Lemmatization  "
      ]
    },
    {
      "cell_type": "markdown",
      "id": "8714cd02",
      "metadata": {
        "id": "8714cd02"
      },
      "source": [
        "### Techniques to convert Text to Numerical Vectors\n",
        "  1. Bag of Words\n",
        "  2. TF IDF (Term Frequency - Inverse Document Frequency)\n",
        "  3. Word2Vec (by Google)\n",
        "  4. GloVe (Global Vectors by Stanford) \n",
        "  5. Pretrained GloVe Embeddings\n",
        "  6. FastText (by Facebook) \n",
        "  7. ELMo (Embeddings from Language Models) \n",
        "  8. BERT (Bidirectional Encoder Representations from Transformer)"
      ]
    },
    {
      "cell_type": "markdown",
      "id": "8f47956b",
      "metadata": {
        "id": "8f47956b"
      },
      "source": [
        "### Data Preparation"
      ]
    },
    {
      "cell_type": "code",
      "execution_count": 2,
      "id": "f733eb33",
      "metadata": {
        "id": "f733eb33"
      },
      "outputs": [],
      "source": [
        "import numpy as np\n",
        "import pandas as pd\n",
        "\n",
        "import matplotlib.pyplot as plt\n",
        "import seaborn as sns"
      ]
    },
    {
      "cell_type": "code",
      "execution_count": 3,
      "id": "e92297a9",
      "metadata": {
        "colab": {
          "base_uri": "https://localhost:8080/",
          "height": 175
        },
        "id": "e92297a9",
        "outputId": "68ad37ce-8ae9-4a02-acc7-384971d1b32f"
      },
      "outputs": [
        {
          "output_type": "execute_result",
          "data": {
            "text/plain": [
              "                             text\n",
              "0      it Was the best oF Times $\n",
              "1    It was The worst of 23times.\n",
              "2      IT 9 was tHe age Of wisdom\n",
              "3  it was thE %age of foolishness"
            ],
            "text/html": [
              "\n",
              "  <div id=\"df-facc0a13-b783-45a0-ba9c-9556d2787af1\">\n",
              "    <div class=\"colab-df-container\">\n",
              "      <div>\n",
              "<style scoped>\n",
              "    .dataframe tbody tr th:only-of-type {\n",
              "        vertical-align: middle;\n",
              "    }\n",
              "\n",
              "    .dataframe tbody tr th {\n",
              "        vertical-align: top;\n",
              "    }\n",
              "\n",
              "    .dataframe thead th {\n",
              "        text-align: right;\n",
              "    }\n",
              "</style>\n",
              "<table border=\"1\" class=\"dataframe\">\n",
              "  <thead>\n",
              "    <tr style=\"text-align: right;\">\n",
              "      <th></th>\n",
              "      <th>text</th>\n",
              "    </tr>\n",
              "  </thead>\n",
              "  <tbody>\n",
              "    <tr>\n",
              "      <th>0</th>\n",
              "      <td>it Was the best oF Times $</td>\n",
              "    </tr>\n",
              "    <tr>\n",
              "      <th>1</th>\n",
              "      <td>It was The worst of 23times.</td>\n",
              "    </tr>\n",
              "    <tr>\n",
              "      <th>2</th>\n",
              "      <td>IT 9 was tHe age Of wisdom</td>\n",
              "    </tr>\n",
              "    <tr>\n",
              "      <th>3</th>\n",
              "      <td>it was thE %age of foolishness</td>\n",
              "    </tr>\n",
              "  </tbody>\n",
              "</table>\n",
              "</div>\n",
              "      <button class=\"colab-df-convert\" onclick=\"convertToInteractive('df-facc0a13-b783-45a0-ba9c-9556d2787af1')\"\n",
              "              title=\"Convert this dataframe to an interactive table.\"\n",
              "              style=\"display:none;\">\n",
              "        \n",
              "  <svg xmlns=\"http://www.w3.org/2000/svg\" height=\"24px\"viewBox=\"0 0 24 24\"\n",
              "       width=\"24px\">\n",
              "    <path d=\"M0 0h24v24H0V0z\" fill=\"none\"/>\n",
              "    <path d=\"M18.56 5.44l.94 2.06.94-2.06 2.06-.94-2.06-.94-.94-2.06-.94 2.06-2.06.94zm-11 1L8.5 8.5l.94-2.06 2.06-.94-2.06-.94L8.5 2.5l-.94 2.06-2.06.94zm10 10l.94 2.06.94-2.06 2.06-.94-2.06-.94-.94-2.06-.94 2.06-2.06.94z\"/><path d=\"M17.41 7.96l-1.37-1.37c-.4-.4-.92-.59-1.43-.59-.52 0-1.04.2-1.43.59L10.3 9.45l-7.72 7.72c-.78.78-.78 2.05 0 2.83L4 21.41c.39.39.9.59 1.41.59.51 0 1.02-.2 1.41-.59l7.78-7.78 2.81-2.81c.8-.78.8-2.07 0-2.86zM5.41 20L4 18.59l7.72-7.72 1.47 1.35L5.41 20z\"/>\n",
              "  </svg>\n",
              "      </button>\n",
              "      \n",
              "  <style>\n",
              "    .colab-df-container {\n",
              "      display:flex;\n",
              "      flex-wrap:wrap;\n",
              "      gap: 12px;\n",
              "    }\n",
              "\n",
              "    .colab-df-convert {\n",
              "      background-color: #E8F0FE;\n",
              "      border: none;\n",
              "      border-radius: 50%;\n",
              "      cursor: pointer;\n",
              "      display: none;\n",
              "      fill: #1967D2;\n",
              "      height: 32px;\n",
              "      padding: 0 0 0 0;\n",
              "      width: 32px;\n",
              "    }\n",
              "\n",
              "    .colab-df-convert:hover {\n",
              "      background-color: #E2EBFA;\n",
              "      box-shadow: 0px 1px 2px rgba(60, 64, 67, 0.3), 0px 1px 3px 1px rgba(60, 64, 67, 0.15);\n",
              "      fill: #174EA6;\n",
              "    }\n",
              "\n",
              "    [theme=dark] .colab-df-convert {\n",
              "      background-color: #3B4455;\n",
              "      fill: #D2E3FC;\n",
              "    }\n",
              "\n",
              "    [theme=dark] .colab-df-convert:hover {\n",
              "      background-color: #434B5C;\n",
              "      box-shadow: 0px 1px 3px 1px rgba(0, 0, 0, 0.15);\n",
              "      filter: drop-shadow(0px 1px 2px rgba(0, 0, 0, 0.3));\n",
              "      fill: #FFFFFF;\n",
              "    }\n",
              "  </style>\n",
              "\n",
              "      <script>\n",
              "        const buttonEl =\n",
              "          document.querySelector('#df-facc0a13-b783-45a0-ba9c-9556d2787af1 button.colab-df-convert');\n",
              "        buttonEl.style.display =\n",
              "          google.colab.kernel.accessAllowed ? 'block' : 'none';\n",
              "\n",
              "        async function convertToInteractive(key) {\n",
              "          const element = document.querySelector('#df-facc0a13-b783-45a0-ba9c-9556d2787af1');\n",
              "          const dataTable =\n",
              "            await google.colab.kernel.invokeFunction('convertToInteractive',\n",
              "                                                     [key], {});\n",
              "          if (!dataTable) return;\n",
              "\n",
              "          const docLinkHtml = 'Like what you see? Visit the ' +\n",
              "            '<a target=\"_blank\" href=https://colab.research.google.com/notebooks/data_table.ipynb>data table notebook</a>'\n",
              "            + ' to learn more about interactive tables.';\n",
              "          element.innerHTML = '';\n",
              "          dataTable['output_type'] = 'display_data';\n",
              "          await google.colab.output.renderOutput(dataTable, element);\n",
              "          const docLink = document.createElement('div');\n",
              "          docLink.innerHTML = docLinkHtml;\n",
              "          element.appendChild(docLink);\n",
              "        }\n",
              "      </script>\n",
              "    </div>\n",
              "  </div>\n",
              "  "
            ]
          },
          "metadata": {},
          "execution_count": 3
        }
      ],
      "source": [
        "lst_text = ['it Was the best oF Times $', \n",
        "            'It was The worst of 23times.',\n",
        "            'IT 9 was tHe age Of wisdom', \n",
        "            'it was thE %age of foolishness']\n",
        "\n",
        "df = pd.DataFrame({'text': lst_text})\n",
        "\n",
        "df.head()"
      ]
    },
    {
      "cell_type": "code",
      "execution_count": 4,
      "id": "7b7c0007",
      "metadata": {
        "colab": {
          "base_uri": "https://localhost:8080/"
        },
        "id": "7b7c0007",
        "outputId": "5a61feb0-a6f0-4530-96b7-b23e343cc401"
      },
      "outputs": [
        {
          "output_type": "stream",
          "name": "stderr",
          "text": [
            "[nltk_data] Downloading package stopwords to /root/nltk_data...\n",
            "[nltk_data]   Unzipping corpora/stopwords.zip.\n",
            "[nltk_data] Downloading package wordnet to /root/nltk_data...\n",
            "[nltk_data] Downloading package omw-1.4 to /root/nltk_data...\n"
          ]
        },
        {
          "output_type": "execute_result",
          "data": {
            "text/plain": [
              "True"
            ]
          },
          "metadata": {},
          "execution_count": 4
        }
      ],
      "source": [
        "import nltk\n",
        "nltk.download('stopwords')\n",
        "# Downloading wordnet before applying Lemmatizer\n",
        "nltk.download('wordnet')\n",
        "nltk.download('omw-1.4')"
      ]
    },
    {
      "cell_type": "code",
      "execution_count": 5,
      "id": "00e442fb",
      "metadata": {
        "id": "00e442fb"
      },
      "outputs": [],
      "source": [
        "import re\n",
        "import nltk\n",
        "from nltk.tokenize import word_tokenize\n",
        "from nltk.corpus import stopwords\n",
        "from nltk.stem.porter import PorterStemmer\n",
        "from nltk.stem import WordNetLemmatizer"
      ]
    },
    {
      "cell_type": "code",
      "execution_count": 6,
      "id": "d05d3c55",
      "metadata": {
        "id": "d05d3c55"
      },
      "outputs": [],
      "source": [
        "## initialise the inbuilt Stemmer\n",
        "stemmer = PorterStemmer()"
      ]
    },
    {
      "cell_type": "code",
      "execution_count": 7,
      "id": "7eb35ff8",
      "metadata": {
        "id": "7eb35ff8"
      },
      "outputs": [],
      "source": [
        "## We can also use Lemmatizer instead of Stemmer\n",
        "lemmatizer = WordNetLemmatizer()"
      ]
    },
    {
      "cell_type": "markdown",
      "id": "fb336c69",
      "metadata": {
        "id": "fb336c69"
      },
      "source": [
        "### Text Preprocessing Steps\n",
        "\n",
        "Text Preprocessing steps include some essential tasks to clean and remove the noise from the available data.\n",
        "\n",
        "  1. ***Removing Special Characters and Punctuation***\n",
        "  \n",
        "\n",
        "  2. ***Converting to Lower Case -*** We convert the whole text corpus to lower case to reduce the size of the vocabulary of our text data.\n",
        "  \n",
        "\n",
        "  3. ***Removing Stop Words -*** Stopwords don't contribute to the meaning of a sentence. So, we can safely remove them without changing the meaning of the sentence. For eg: it, was, any, then, a, is, by, etc are the stopwords.\n",
        "  \n",
        "\n",
        "  4. ***Stemming or Lemmatization -*** Stemming is the process of getting the root form of a word. For eg: warm, warmer, warming can be converted to warm.\n",
        "  "
      ]
    },
    {
      "cell_type": "code",
      "execution_count": 8,
      "id": "1bb7f2fe",
      "metadata": {
        "colab": {
          "base_uri": "https://localhost:8080/"
        },
        "id": "1bb7f2fe",
        "outputId": "3b2f824f-b48e-49e7-f87a-cd6a6e4f1e45"
      },
      "outputs": [
        {
          "output_type": "stream",
          "name": "stdout",
          "text": [
            "This 1is Natural-LAnguage-Processing.& This is @Text pre-Processing4\n"
          ]
        }
      ],
      "source": [
        "raw_text = \"This 1is Natural-LAnguage-Processing.& This is @Text pre-Processing4\"\n",
        "print(raw_text)"
      ]
    },
    {
      "cell_type": "code",
      "execution_count": 9,
      "id": "428f7d2c",
      "metadata": {
        "colab": {
          "base_uri": "https://localhost:8080/"
        },
        "id": "428f7d2c",
        "outputId": "5214242c-685e-4265-c9e9-ca250d2e8798"
      },
      "outputs": [
        {
          "output_type": "stream",
          "name": "stdout",
          "text": [
            "This  is Natural LAnguage Processing   This is  Text pre Processing \n"
          ]
        }
      ],
      "source": [
        "# Removing special characters and digits\n",
        "sentence = re.sub(\"[^a-zA-Z]\", \" \", raw_text)\n",
        "print(sentence)"
      ]
    },
    {
      "cell_type": "code",
      "execution_count": 10,
      "id": "073cd48d",
      "metadata": {
        "colab": {
          "base_uri": "https://localhost:8080/"
        },
        "id": "073cd48d",
        "outputId": "de8f4608-43de-4400-b383-d5f787ba4032"
      },
      "outputs": [
        {
          "output_type": "stream",
          "name": "stdout",
          "text": [
            "this  is natural language processing   this is  text pre processing \n"
          ]
        }
      ],
      "source": [
        "# change sentence to lower case\n",
        "sentence = sentence.lower()\n",
        "print(sentence)"
      ]
    },
    {
      "cell_type": "code",
      "execution_count": 11,
      "id": "2abfdbdf",
      "metadata": {
        "colab": {
          "base_uri": "https://localhost:8080/"
        },
        "id": "2abfdbdf",
        "outputId": "e93d5387-18c2-4922-d926-cc90a0c2fd20"
      },
      "outputs": [
        {
          "output_type": "stream",
          "name": "stdout",
          "text": [
            "['this', 'is', 'natural', 'language', 'processing', 'this', 'is', 'text', 'pre', 'processing']\n"
          ]
        }
      ],
      "source": [
        "# tokenize into words\n",
        "tokens = sentence.split()\n",
        "print(tokens)"
      ]
    },
    {
      "cell_type": "code",
      "execution_count": 12,
      "id": "c7c8ec3a",
      "metadata": {
        "colab": {
          "base_uri": "https://localhost:8080/"
        },
        "id": "c7c8ec3a",
        "outputId": "4aea40c4-df9c-4b78-ffa3-7ea495b6d2a1"
      },
      "outputs": [
        {
          "output_type": "stream",
          "name": "stdout",
          "text": [
            "['natural', 'language', 'processing', 'text', 'pre', 'processing']\n"
          ]
        }
      ],
      "source": [
        "# Removing stop words\n",
        "clean_tokens = [t for t in tokens if t not in stopwords.words(\"english\")]\n",
        "print(clean_tokens)"
      ]
    },
    {
      "cell_type": "code",
      "execution_count": 13,
      "id": "7d558cf9",
      "metadata": {
        "colab": {
          "base_uri": "https://localhost:8080/"
        },
        "id": "7d558cf9",
        "outputId": "db7fc2b2-4679-47b9-bd0e-96f37ddf8192"
      },
      "outputs": [
        {
          "output_type": "stream",
          "name": "stdout",
          "text": [
            "['natur', 'languag', 'process', 'text', 'pre', 'process']\n"
          ]
        }
      ],
      "source": [
        "# Stemming\n",
        "clean_tokens_stem = [stemmer.stem(word) for word in clean_tokens]\n",
        "print(clean_tokens_stem)"
      ]
    },
    {
      "cell_type": "code",
      "execution_count": 14,
      "id": "462769ac",
      "metadata": {
        "colab": {
          "base_uri": "https://localhost:8080/"
        },
        "id": "462769ac",
        "outputId": "04ca3fdd-3411-4b82-d3d2-82e21c99a7f1"
      },
      "outputs": [
        {
          "output_type": "stream",
          "name": "stdout",
          "text": [
            "['natural', 'language', 'processing', 'text', 'pre', 'processing']\n"
          ]
        }
      ],
      "source": [
        "# Lemmatizing\n",
        "clean_tokens_lem = [lemmatizer.lemmatize(word) for word in clean_tokens]\n",
        "print(clean_tokens_lem)"
      ]
    },
    {
      "cell_type": "markdown",
      "id": "334952e7",
      "metadata": {
        "id": "334952e7"
      },
      "source": [
        "## Lets put it all together in function"
      ]
    },
    {
      "cell_type": "code",
      "execution_count": 15,
      "id": "c55707ee",
      "metadata": {
        "id": "c55707ee"
      },
      "outputs": [],
      "source": [
        "def preprocess(raw_text, flag):\n",
        "    # Removing special characters and digits\n",
        "    sentence = re.sub(\"[^a-zA-Z]\", \" \", raw_text)\n",
        "    \n",
        "    # change sentence to lower case\n",
        "    sentence = sentence.lower()\n",
        "\n",
        "    # tokenize into words\n",
        "    tokens = sentence.split()\n",
        "    \n",
        "    # remove stop words                \n",
        "    clean_tokens = [t for t in tokens if t not in stopwords.words(\"english\")]\n",
        "    \n",
        "    # Stemming/Lemmatization\n",
        "    if(flag == 'stem'):\n",
        "        clean_tokens = [stemmer.stem(word) for word in clean_tokens]\n",
        "    else:\n",
        "        clean_tokens = [lemmatizer.lemmatize(word) for word in clean_tokens]\n",
        "    \n",
        "    return pd.Series([\" \".join(clean_tokens), len(clean_tokens)])"
      ]
    },
    {
      "cell_type": "code",
      "execution_count": 16,
      "id": "20f2a771",
      "metadata": {
        "colab": {
          "base_uri": "https://localhost:8080/",
          "height": 175
        },
        "id": "20f2a771",
        "outputId": "6623df3b-8677-4361-deca-94979502cb66"
      },
      "outputs": [
        {
          "output_type": "execute_result",
          "data": {
            "text/plain": [
              "             0  1\n",
              "0    best time  2\n",
              "1   worst time  2\n",
              "2   age wisdom  2\n",
              "3  age foolish  2"
            ],
            "text/html": [
              "\n",
              "  <div id=\"df-d304fa13-78be-40df-a088-d2c7c7247baf\">\n",
              "    <div class=\"colab-df-container\">\n",
              "      <div>\n",
              "<style scoped>\n",
              "    .dataframe tbody tr th:only-of-type {\n",
              "        vertical-align: middle;\n",
              "    }\n",
              "\n",
              "    .dataframe tbody tr th {\n",
              "        vertical-align: top;\n",
              "    }\n",
              "\n",
              "    .dataframe thead th {\n",
              "        text-align: right;\n",
              "    }\n",
              "</style>\n",
              "<table border=\"1\" class=\"dataframe\">\n",
              "  <thead>\n",
              "    <tr style=\"text-align: right;\">\n",
              "      <th></th>\n",
              "      <th>0</th>\n",
              "      <th>1</th>\n",
              "    </tr>\n",
              "  </thead>\n",
              "  <tbody>\n",
              "    <tr>\n",
              "      <th>0</th>\n",
              "      <td>best time</td>\n",
              "      <td>2</td>\n",
              "    </tr>\n",
              "    <tr>\n",
              "      <th>1</th>\n",
              "      <td>worst time</td>\n",
              "      <td>2</td>\n",
              "    </tr>\n",
              "    <tr>\n",
              "      <th>2</th>\n",
              "      <td>age wisdom</td>\n",
              "      <td>2</td>\n",
              "    </tr>\n",
              "    <tr>\n",
              "      <th>3</th>\n",
              "      <td>age foolish</td>\n",
              "      <td>2</td>\n",
              "    </tr>\n",
              "  </tbody>\n",
              "</table>\n",
              "</div>\n",
              "      <button class=\"colab-df-convert\" onclick=\"convertToInteractive('df-d304fa13-78be-40df-a088-d2c7c7247baf')\"\n",
              "              title=\"Convert this dataframe to an interactive table.\"\n",
              "              style=\"display:none;\">\n",
              "        \n",
              "  <svg xmlns=\"http://www.w3.org/2000/svg\" height=\"24px\"viewBox=\"0 0 24 24\"\n",
              "       width=\"24px\">\n",
              "    <path d=\"M0 0h24v24H0V0z\" fill=\"none\"/>\n",
              "    <path d=\"M18.56 5.44l.94 2.06.94-2.06 2.06-.94-2.06-.94-.94-2.06-.94 2.06-2.06.94zm-11 1L8.5 8.5l.94-2.06 2.06-.94-2.06-.94L8.5 2.5l-.94 2.06-2.06.94zm10 10l.94 2.06.94-2.06 2.06-.94-2.06-.94-.94-2.06-.94 2.06-2.06.94z\"/><path d=\"M17.41 7.96l-1.37-1.37c-.4-.4-.92-.59-1.43-.59-.52 0-1.04.2-1.43.59L10.3 9.45l-7.72 7.72c-.78.78-.78 2.05 0 2.83L4 21.41c.39.39.9.59 1.41.59.51 0 1.02-.2 1.41-.59l7.78-7.78 2.81-2.81c.8-.78.8-2.07 0-2.86zM5.41 20L4 18.59l7.72-7.72 1.47 1.35L5.41 20z\"/>\n",
              "  </svg>\n",
              "      </button>\n",
              "      \n",
              "  <style>\n",
              "    .colab-df-container {\n",
              "      display:flex;\n",
              "      flex-wrap:wrap;\n",
              "      gap: 12px;\n",
              "    }\n",
              "\n",
              "    .colab-df-convert {\n",
              "      background-color: #E8F0FE;\n",
              "      border: none;\n",
              "      border-radius: 50%;\n",
              "      cursor: pointer;\n",
              "      display: none;\n",
              "      fill: #1967D2;\n",
              "      height: 32px;\n",
              "      padding: 0 0 0 0;\n",
              "      width: 32px;\n",
              "    }\n",
              "\n",
              "    .colab-df-convert:hover {\n",
              "      background-color: #E2EBFA;\n",
              "      box-shadow: 0px 1px 2px rgba(60, 64, 67, 0.3), 0px 1px 3px 1px rgba(60, 64, 67, 0.15);\n",
              "      fill: #174EA6;\n",
              "    }\n",
              "\n",
              "    [theme=dark] .colab-df-convert {\n",
              "      background-color: #3B4455;\n",
              "      fill: #D2E3FC;\n",
              "    }\n",
              "\n",
              "    [theme=dark] .colab-df-convert:hover {\n",
              "      background-color: #434B5C;\n",
              "      box-shadow: 0px 1px 3px 1px rgba(0, 0, 0, 0.15);\n",
              "      filter: drop-shadow(0px 1px 2px rgba(0, 0, 0, 0.3));\n",
              "      fill: #FFFFFF;\n",
              "    }\n",
              "  </style>\n",
              "\n",
              "      <script>\n",
              "        const buttonEl =\n",
              "          document.querySelector('#df-d304fa13-78be-40df-a088-d2c7c7247baf button.colab-df-convert');\n",
              "        buttonEl.style.display =\n",
              "          google.colab.kernel.accessAllowed ? 'block' : 'none';\n",
              "\n",
              "        async function convertToInteractive(key) {\n",
              "          const element = document.querySelector('#df-d304fa13-78be-40df-a088-d2c7c7247baf');\n",
              "          const dataTable =\n",
              "            await google.colab.kernel.invokeFunction('convertToInteractive',\n",
              "                                                     [key], {});\n",
              "          if (!dataTable) return;\n",
              "\n",
              "          const docLinkHtml = 'Like what you see? Visit the ' +\n",
              "            '<a target=\"_blank\" href=https://colab.research.google.com/notebooks/data_table.ipynb>data table notebook</a>'\n",
              "            + ' to learn more about interactive tables.';\n",
              "          element.innerHTML = '';\n",
              "          dataTable['output_type'] = 'display_data';\n",
              "          await google.colab.output.renderOutput(dataTable, element);\n",
              "          const docLink = document.createElement('div');\n",
              "          docLink.innerHTML = docLinkHtml;\n",
              "          element.appendChild(docLink);\n",
              "        }\n",
              "      </script>\n",
              "    </div>\n",
              "  </div>\n",
              "  "
            ]
          },
          "metadata": {},
          "execution_count": 16
        }
      ],
      "source": [
        "temp_df = df['text'].apply(lambda x : preprocess(x, 'stem'))\n",
        "\n",
        "temp_df.head()"
      ]
    },
    {
      "cell_type": "code",
      "execution_count": 17,
      "id": "0fb7ee3d",
      "metadata": {
        "colab": {
          "base_uri": "https://localhost:8080/",
          "height": 175
        },
        "id": "0fb7ee3d",
        "outputId": "cb6cd169-d56b-46b8-da04-50ec45914a83"
      },
      "outputs": [
        {
          "output_type": "execute_result",
          "data": {
            "text/plain": [
              "  clean_text_stem  text_length_stem\n",
              "0       best time                 2\n",
              "1      worst time                 2\n",
              "2      age wisdom                 2\n",
              "3     age foolish                 2"
            ],
            "text/html": [
              "\n",
              "  <div id=\"df-7362f09e-9a84-4b9b-8f95-3d24842b90e6\">\n",
              "    <div class=\"colab-df-container\">\n",
              "      <div>\n",
              "<style scoped>\n",
              "    .dataframe tbody tr th:only-of-type {\n",
              "        vertical-align: middle;\n",
              "    }\n",
              "\n",
              "    .dataframe tbody tr th {\n",
              "        vertical-align: top;\n",
              "    }\n",
              "\n",
              "    .dataframe thead th {\n",
              "        text-align: right;\n",
              "    }\n",
              "</style>\n",
              "<table border=\"1\" class=\"dataframe\">\n",
              "  <thead>\n",
              "    <tr style=\"text-align: right;\">\n",
              "      <th></th>\n",
              "      <th>clean_text_stem</th>\n",
              "      <th>text_length_stem</th>\n",
              "    </tr>\n",
              "  </thead>\n",
              "  <tbody>\n",
              "    <tr>\n",
              "      <th>0</th>\n",
              "      <td>best time</td>\n",
              "      <td>2</td>\n",
              "    </tr>\n",
              "    <tr>\n",
              "      <th>1</th>\n",
              "      <td>worst time</td>\n",
              "      <td>2</td>\n",
              "    </tr>\n",
              "    <tr>\n",
              "      <th>2</th>\n",
              "      <td>age wisdom</td>\n",
              "      <td>2</td>\n",
              "    </tr>\n",
              "    <tr>\n",
              "      <th>3</th>\n",
              "      <td>age foolish</td>\n",
              "      <td>2</td>\n",
              "    </tr>\n",
              "  </tbody>\n",
              "</table>\n",
              "</div>\n",
              "      <button class=\"colab-df-convert\" onclick=\"convertToInteractive('df-7362f09e-9a84-4b9b-8f95-3d24842b90e6')\"\n",
              "              title=\"Convert this dataframe to an interactive table.\"\n",
              "              style=\"display:none;\">\n",
              "        \n",
              "  <svg xmlns=\"http://www.w3.org/2000/svg\" height=\"24px\"viewBox=\"0 0 24 24\"\n",
              "       width=\"24px\">\n",
              "    <path d=\"M0 0h24v24H0V0z\" fill=\"none\"/>\n",
              "    <path d=\"M18.56 5.44l.94 2.06.94-2.06 2.06-.94-2.06-.94-.94-2.06-.94 2.06-2.06.94zm-11 1L8.5 8.5l.94-2.06 2.06-.94-2.06-.94L8.5 2.5l-.94 2.06-2.06.94zm10 10l.94 2.06.94-2.06 2.06-.94-2.06-.94-.94-2.06-.94 2.06-2.06.94z\"/><path d=\"M17.41 7.96l-1.37-1.37c-.4-.4-.92-.59-1.43-.59-.52 0-1.04.2-1.43.59L10.3 9.45l-7.72 7.72c-.78.78-.78 2.05 0 2.83L4 21.41c.39.39.9.59 1.41.59.51 0 1.02-.2 1.41-.59l7.78-7.78 2.81-2.81c.8-.78.8-2.07 0-2.86zM5.41 20L4 18.59l7.72-7.72 1.47 1.35L5.41 20z\"/>\n",
              "  </svg>\n",
              "      </button>\n",
              "      \n",
              "  <style>\n",
              "    .colab-df-container {\n",
              "      display:flex;\n",
              "      flex-wrap:wrap;\n",
              "      gap: 12px;\n",
              "    }\n",
              "\n",
              "    .colab-df-convert {\n",
              "      background-color: #E8F0FE;\n",
              "      border: none;\n",
              "      border-radius: 50%;\n",
              "      cursor: pointer;\n",
              "      display: none;\n",
              "      fill: #1967D2;\n",
              "      height: 32px;\n",
              "      padding: 0 0 0 0;\n",
              "      width: 32px;\n",
              "    }\n",
              "\n",
              "    .colab-df-convert:hover {\n",
              "      background-color: #E2EBFA;\n",
              "      box-shadow: 0px 1px 2px rgba(60, 64, 67, 0.3), 0px 1px 3px 1px rgba(60, 64, 67, 0.15);\n",
              "      fill: #174EA6;\n",
              "    }\n",
              "\n",
              "    [theme=dark] .colab-df-convert {\n",
              "      background-color: #3B4455;\n",
              "      fill: #D2E3FC;\n",
              "    }\n",
              "\n",
              "    [theme=dark] .colab-df-convert:hover {\n",
              "      background-color: #434B5C;\n",
              "      box-shadow: 0px 1px 3px 1px rgba(0, 0, 0, 0.15);\n",
              "      filter: drop-shadow(0px 1px 2px rgba(0, 0, 0, 0.3));\n",
              "      fill: #FFFFFF;\n",
              "    }\n",
              "  </style>\n",
              "\n",
              "      <script>\n",
              "        const buttonEl =\n",
              "          document.querySelector('#df-7362f09e-9a84-4b9b-8f95-3d24842b90e6 button.colab-df-convert');\n",
              "        buttonEl.style.display =\n",
              "          google.colab.kernel.accessAllowed ? 'block' : 'none';\n",
              "\n",
              "        async function convertToInteractive(key) {\n",
              "          const element = document.querySelector('#df-7362f09e-9a84-4b9b-8f95-3d24842b90e6');\n",
              "          const dataTable =\n",
              "            await google.colab.kernel.invokeFunction('convertToInteractive',\n",
              "                                                     [key], {});\n",
              "          if (!dataTable) return;\n",
              "\n",
              "          const docLinkHtml = 'Like what you see? Visit the ' +\n",
              "            '<a target=\"_blank\" href=https://colab.research.google.com/notebooks/data_table.ipynb>data table notebook</a>'\n",
              "            + ' to learn more about interactive tables.';\n",
              "          element.innerHTML = '';\n",
              "          dataTable['output_type'] = 'display_data';\n",
              "          await google.colab.output.renderOutput(dataTable, element);\n",
              "          const docLink = document.createElement('div');\n",
              "          docLink.innerHTML = docLinkHtml;\n",
              "          element.appendChild(docLink);\n",
              "        }\n",
              "      </script>\n",
              "    </div>\n",
              "  </div>\n",
              "  "
            ]
          },
          "metadata": {},
          "execution_count": 17
        }
      ],
      "source": [
        "temp_df.columns = ['clean_text_stem', 'text_length_stem']\n",
        "\n",
        "temp_df.head()"
      ]
    },
    {
      "cell_type": "code",
      "execution_count": 18,
      "id": "ed4bad59",
      "metadata": {
        "colab": {
          "base_uri": "https://localhost:8080/",
          "height": 175
        },
        "id": "ed4bad59",
        "outputId": "724f216d-7087-40b5-ad2b-4ade838388bb"
      },
      "outputs": [
        {
          "output_type": "execute_result",
          "data": {
            "text/plain": [
              "                             text clean_text_stem  text_length_stem\n",
              "0      it Was the best oF Times $       best time                 2\n",
              "1    It was The worst of 23times.      worst time                 2\n",
              "2      IT 9 was tHe age Of wisdom      age wisdom                 2\n",
              "3  it was thE %age of foolishness     age foolish                 2"
            ],
            "text/html": [
              "\n",
              "  <div id=\"df-6e1f35fd-c38e-43f0-bea4-a4c474df72dd\">\n",
              "    <div class=\"colab-df-container\">\n",
              "      <div>\n",
              "<style scoped>\n",
              "    .dataframe tbody tr th:only-of-type {\n",
              "        vertical-align: middle;\n",
              "    }\n",
              "\n",
              "    .dataframe tbody tr th {\n",
              "        vertical-align: top;\n",
              "    }\n",
              "\n",
              "    .dataframe thead th {\n",
              "        text-align: right;\n",
              "    }\n",
              "</style>\n",
              "<table border=\"1\" class=\"dataframe\">\n",
              "  <thead>\n",
              "    <tr style=\"text-align: right;\">\n",
              "      <th></th>\n",
              "      <th>text</th>\n",
              "      <th>clean_text_stem</th>\n",
              "      <th>text_length_stem</th>\n",
              "    </tr>\n",
              "  </thead>\n",
              "  <tbody>\n",
              "    <tr>\n",
              "      <th>0</th>\n",
              "      <td>it Was the best oF Times $</td>\n",
              "      <td>best time</td>\n",
              "      <td>2</td>\n",
              "    </tr>\n",
              "    <tr>\n",
              "      <th>1</th>\n",
              "      <td>It was The worst of 23times.</td>\n",
              "      <td>worst time</td>\n",
              "      <td>2</td>\n",
              "    </tr>\n",
              "    <tr>\n",
              "      <th>2</th>\n",
              "      <td>IT 9 was tHe age Of wisdom</td>\n",
              "      <td>age wisdom</td>\n",
              "      <td>2</td>\n",
              "    </tr>\n",
              "    <tr>\n",
              "      <th>3</th>\n",
              "      <td>it was thE %age of foolishness</td>\n",
              "      <td>age foolish</td>\n",
              "      <td>2</td>\n",
              "    </tr>\n",
              "  </tbody>\n",
              "</table>\n",
              "</div>\n",
              "      <button class=\"colab-df-convert\" onclick=\"convertToInteractive('df-6e1f35fd-c38e-43f0-bea4-a4c474df72dd')\"\n",
              "              title=\"Convert this dataframe to an interactive table.\"\n",
              "              style=\"display:none;\">\n",
              "        \n",
              "  <svg xmlns=\"http://www.w3.org/2000/svg\" height=\"24px\"viewBox=\"0 0 24 24\"\n",
              "       width=\"24px\">\n",
              "    <path d=\"M0 0h24v24H0V0z\" fill=\"none\"/>\n",
              "    <path d=\"M18.56 5.44l.94 2.06.94-2.06 2.06-.94-2.06-.94-.94-2.06-.94 2.06-2.06.94zm-11 1L8.5 8.5l.94-2.06 2.06-.94-2.06-.94L8.5 2.5l-.94 2.06-2.06.94zm10 10l.94 2.06.94-2.06 2.06-.94-2.06-.94-.94-2.06-.94 2.06-2.06.94z\"/><path d=\"M17.41 7.96l-1.37-1.37c-.4-.4-.92-.59-1.43-.59-.52 0-1.04.2-1.43.59L10.3 9.45l-7.72 7.72c-.78.78-.78 2.05 0 2.83L4 21.41c.39.39.9.59 1.41.59.51 0 1.02-.2 1.41-.59l7.78-7.78 2.81-2.81c.8-.78.8-2.07 0-2.86zM5.41 20L4 18.59l7.72-7.72 1.47 1.35L5.41 20z\"/>\n",
              "  </svg>\n",
              "      </button>\n",
              "      \n",
              "  <style>\n",
              "    .colab-df-container {\n",
              "      display:flex;\n",
              "      flex-wrap:wrap;\n",
              "      gap: 12px;\n",
              "    }\n",
              "\n",
              "    .colab-df-convert {\n",
              "      background-color: #E8F0FE;\n",
              "      border: none;\n",
              "      border-radius: 50%;\n",
              "      cursor: pointer;\n",
              "      display: none;\n",
              "      fill: #1967D2;\n",
              "      height: 32px;\n",
              "      padding: 0 0 0 0;\n",
              "      width: 32px;\n",
              "    }\n",
              "\n",
              "    .colab-df-convert:hover {\n",
              "      background-color: #E2EBFA;\n",
              "      box-shadow: 0px 1px 2px rgba(60, 64, 67, 0.3), 0px 1px 3px 1px rgba(60, 64, 67, 0.15);\n",
              "      fill: #174EA6;\n",
              "    }\n",
              "\n",
              "    [theme=dark] .colab-df-convert {\n",
              "      background-color: #3B4455;\n",
              "      fill: #D2E3FC;\n",
              "    }\n",
              "\n",
              "    [theme=dark] .colab-df-convert:hover {\n",
              "      background-color: #434B5C;\n",
              "      box-shadow: 0px 1px 3px 1px rgba(0, 0, 0, 0.15);\n",
              "      filter: drop-shadow(0px 1px 2px rgba(0, 0, 0, 0.3));\n",
              "      fill: #FFFFFF;\n",
              "    }\n",
              "  </style>\n",
              "\n",
              "      <script>\n",
              "        const buttonEl =\n",
              "          document.querySelector('#df-6e1f35fd-c38e-43f0-bea4-a4c474df72dd button.colab-df-convert');\n",
              "        buttonEl.style.display =\n",
              "          google.colab.kernel.accessAllowed ? 'block' : 'none';\n",
              "\n",
              "        async function convertToInteractive(key) {\n",
              "          const element = document.querySelector('#df-6e1f35fd-c38e-43f0-bea4-a4c474df72dd');\n",
              "          const dataTable =\n",
              "            await google.colab.kernel.invokeFunction('convertToInteractive',\n",
              "                                                     [key], {});\n",
              "          if (!dataTable) return;\n",
              "\n",
              "          const docLinkHtml = 'Like what you see? Visit the ' +\n",
              "            '<a target=\"_blank\" href=https://colab.research.google.com/notebooks/data_table.ipynb>data table notebook</a>'\n",
              "            + ' to learn more about interactive tables.';\n",
              "          element.innerHTML = '';\n",
              "          dataTable['output_type'] = 'display_data';\n",
              "          await google.colab.output.renderOutput(dataTable, element);\n",
              "          const docLink = document.createElement('div');\n",
              "          docLink.innerHTML = docLinkHtml;\n",
              "          element.appendChild(docLink);\n",
              "        }\n",
              "      </script>\n",
              "    </div>\n",
              "  </div>\n",
              "  "
            ]
          },
          "metadata": {},
          "execution_count": 18
        }
      ],
      "source": [
        "df = pd.concat([df, temp_df], axis=1)\n",
        "\n",
        "df.head()"
      ]
    },
    {
      "cell_type": "code",
      "execution_count": 19,
      "id": "b3eeb5cb",
      "metadata": {
        "colab": {
          "base_uri": "https://localhost:8080/",
          "height": 175
        },
        "id": "b3eeb5cb",
        "outputId": "36c45bbc-f57e-49c4-ddff-e5d1b6010a11"
      },
      "outputs": [
        {
          "output_type": "execute_result",
          "data": {
            "text/plain": [
              "                 0  1\n",
              "0        best time  2\n",
              "1       worst time  2\n",
              "2       age wisdom  2\n",
              "3  age foolishness  2"
            ],
            "text/html": [
              "\n",
              "  <div id=\"df-a827ceeb-5876-4d57-9574-1895cd0df6fe\">\n",
              "    <div class=\"colab-df-container\">\n",
              "      <div>\n",
              "<style scoped>\n",
              "    .dataframe tbody tr th:only-of-type {\n",
              "        vertical-align: middle;\n",
              "    }\n",
              "\n",
              "    .dataframe tbody tr th {\n",
              "        vertical-align: top;\n",
              "    }\n",
              "\n",
              "    .dataframe thead th {\n",
              "        text-align: right;\n",
              "    }\n",
              "</style>\n",
              "<table border=\"1\" class=\"dataframe\">\n",
              "  <thead>\n",
              "    <tr style=\"text-align: right;\">\n",
              "      <th></th>\n",
              "      <th>0</th>\n",
              "      <th>1</th>\n",
              "    </tr>\n",
              "  </thead>\n",
              "  <tbody>\n",
              "    <tr>\n",
              "      <th>0</th>\n",
              "      <td>best time</td>\n",
              "      <td>2</td>\n",
              "    </tr>\n",
              "    <tr>\n",
              "      <th>1</th>\n",
              "      <td>worst time</td>\n",
              "      <td>2</td>\n",
              "    </tr>\n",
              "    <tr>\n",
              "      <th>2</th>\n",
              "      <td>age wisdom</td>\n",
              "      <td>2</td>\n",
              "    </tr>\n",
              "    <tr>\n",
              "      <th>3</th>\n",
              "      <td>age foolishness</td>\n",
              "      <td>2</td>\n",
              "    </tr>\n",
              "  </tbody>\n",
              "</table>\n",
              "</div>\n",
              "      <button class=\"colab-df-convert\" onclick=\"convertToInteractive('df-a827ceeb-5876-4d57-9574-1895cd0df6fe')\"\n",
              "              title=\"Convert this dataframe to an interactive table.\"\n",
              "              style=\"display:none;\">\n",
              "        \n",
              "  <svg xmlns=\"http://www.w3.org/2000/svg\" height=\"24px\"viewBox=\"0 0 24 24\"\n",
              "       width=\"24px\">\n",
              "    <path d=\"M0 0h24v24H0V0z\" fill=\"none\"/>\n",
              "    <path d=\"M18.56 5.44l.94 2.06.94-2.06 2.06-.94-2.06-.94-.94-2.06-.94 2.06-2.06.94zm-11 1L8.5 8.5l.94-2.06 2.06-.94-2.06-.94L8.5 2.5l-.94 2.06-2.06.94zm10 10l.94 2.06.94-2.06 2.06-.94-2.06-.94-.94-2.06-.94 2.06-2.06.94z\"/><path d=\"M17.41 7.96l-1.37-1.37c-.4-.4-.92-.59-1.43-.59-.52 0-1.04.2-1.43.59L10.3 9.45l-7.72 7.72c-.78.78-.78 2.05 0 2.83L4 21.41c.39.39.9.59 1.41.59.51 0 1.02-.2 1.41-.59l7.78-7.78 2.81-2.81c.8-.78.8-2.07 0-2.86zM5.41 20L4 18.59l7.72-7.72 1.47 1.35L5.41 20z\"/>\n",
              "  </svg>\n",
              "      </button>\n",
              "      \n",
              "  <style>\n",
              "    .colab-df-container {\n",
              "      display:flex;\n",
              "      flex-wrap:wrap;\n",
              "      gap: 12px;\n",
              "    }\n",
              "\n",
              "    .colab-df-convert {\n",
              "      background-color: #E8F0FE;\n",
              "      border: none;\n",
              "      border-radius: 50%;\n",
              "      cursor: pointer;\n",
              "      display: none;\n",
              "      fill: #1967D2;\n",
              "      height: 32px;\n",
              "      padding: 0 0 0 0;\n",
              "      width: 32px;\n",
              "    }\n",
              "\n",
              "    .colab-df-convert:hover {\n",
              "      background-color: #E2EBFA;\n",
              "      box-shadow: 0px 1px 2px rgba(60, 64, 67, 0.3), 0px 1px 3px 1px rgba(60, 64, 67, 0.15);\n",
              "      fill: #174EA6;\n",
              "    }\n",
              "\n",
              "    [theme=dark] .colab-df-convert {\n",
              "      background-color: #3B4455;\n",
              "      fill: #D2E3FC;\n",
              "    }\n",
              "\n",
              "    [theme=dark] .colab-df-convert:hover {\n",
              "      background-color: #434B5C;\n",
              "      box-shadow: 0px 1px 3px 1px rgba(0, 0, 0, 0.15);\n",
              "      filter: drop-shadow(0px 1px 2px rgba(0, 0, 0, 0.3));\n",
              "      fill: #FFFFFF;\n",
              "    }\n",
              "  </style>\n",
              "\n",
              "      <script>\n",
              "        const buttonEl =\n",
              "          document.querySelector('#df-a827ceeb-5876-4d57-9574-1895cd0df6fe button.colab-df-convert');\n",
              "        buttonEl.style.display =\n",
              "          google.colab.kernel.accessAllowed ? 'block' : 'none';\n",
              "\n",
              "        async function convertToInteractive(key) {\n",
              "          const element = document.querySelector('#df-a827ceeb-5876-4d57-9574-1895cd0df6fe');\n",
              "          const dataTable =\n",
              "            await google.colab.kernel.invokeFunction('convertToInteractive',\n",
              "                                                     [key], {});\n",
              "          if (!dataTable) return;\n",
              "\n",
              "          const docLinkHtml = 'Like what you see? Visit the ' +\n",
              "            '<a target=\"_blank\" href=https://colab.research.google.com/notebooks/data_table.ipynb>data table notebook</a>'\n",
              "            + ' to learn more about interactive tables.';\n",
              "          element.innerHTML = '';\n",
              "          dataTable['output_type'] = 'display_data';\n",
              "          await google.colab.output.renderOutput(dataTable, element);\n",
              "          const docLink = document.createElement('div');\n",
              "          docLink.innerHTML = docLinkHtml;\n",
              "          element.appendChild(docLink);\n",
              "        }\n",
              "      </script>\n",
              "    </div>\n",
              "  </div>\n",
              "  "
            ]
          },
          "metadata": {},
          "execution_count": 19
        }
      ],
      "source": [
        "temp_df = df['text'].apply(lambda x: preprocess(x, 'lemma'))\n",
        "\n",
        "temp_df.head()"
      ]
    },
    {
      "cell_type": "code",
      "execution_count": 20,
      "id": "15e75941",
      "metadata": {
        "colab": {
          "base_uri": "https://localhost:8080/",
          "height": 175
        },
        "id": "15e75941",
        "outputId": "c121ca33-b83e-45a6-fd37-7270bbd4d578"
      },
      "outputs": [
        {
          "output_type": "execute_result",
          "data": {
            "text/plain": [
              "  clean_text_lemma  text_length_lemma\n",
              "0        best time                  2\n",
              "1       worst time                  2\n",
              "2       age wisdom                  2\n",
              "3  age foolishness                  2"
            ],
            "text/html": [
              "\n",
              "  <div id=\"df-0e0ffd54-94ef-4806-8579-e46b09682997\">\n",
              "    <div class=\"colab-df-container\">\n",
              "      <div>\n",
              "<style scoped>\n",
              "    .dataframe tbody tr th:only-of-type {\n",
              "        vertical-align: middle;\n",
              "    }\n",
              "\n",
              "    .dataframe tbody tr th {\n",
              "        vertical-align: top;\n",
              "    }\n",
              "\n",
              "    .dataframe thead th {\n",
              "        text-align: right;\n",
              "    }\n",
              "</style>\n",
              "<table border=\"1\" class=\"dataframe\">\n",
              "  <thead>\n",
              "    <tr style=\"text-align: right;\">\n",
              "      <th></th>\n",
              "      <th>clean_text_lemma</th>\n",
              "      <th>text_length_lemma</th>\n",
              "    </tr>\n",
              "  </thead>\n",
              "  <tbody>\n",
              "    <tr>\n",
              "      <th>0</th>\n",
              "      <td>best time</td>\n",
              "      <td>2</td>\n",
              "    </tr>\n",
              "    <tr>\n",
              "      <th>1</th>\n",
              "      <td>worst time</td>\n",
              "      <td>2</td>\n",
              "    </tr>\n",
              "    <tr>\n",
              "      <th>2</th>\n",
              "      <td>age wisdom</td>\n",
              "      <td>2</td>\n",
              "    </tr>\n",
              "    <tr>\n",
              "      <th>3</th>\n",
              "      <td>age foolishness</td>\n",
              "      <td>2</td>\n",
              "    </tr>\n",
              "  </tbody>\n",
              "</table>\n",
              "</div>\n",
              "      <button class=\"colab-df-convert\" onclick=\"convertToInteractive('df-0e0ffd54-94ef-4806-8579-e46b09682997')\"\n",
              "              title=\"Convert this dataframe to an interactive table.\"\n",
              "              style=\"display:none;\">\n",
              "        \n",
              "  <svg xmlns=\"http://www.w3.org/2000/svg\" height=\"24px\"viewBox=\"0 0 24 24\"\n",
              "       width=\"24px\">\n",
              "    <path d=\"M0 0h24v24H0V0z\" fill=\"none\"/>\n",
              "    <path d=\"M18.56 5.44l.94 2.06.94-2.06 2.06-.94-2.06-.94-.94-2.06-.94 2.06-2.06.94zm-11 1L8.5 8.5l.94-2.06 2.06-.94-2.06-.94L8.5 2.5l-.94 2.06-2.06.94zm10 10l.94 2.06.94-2.06 2.06-.94-2.06-.94-.94-2.06-.94 2.06-2.06.94z\"/><path d=\"M17.41 7.96l-1.37-1.37c-.4-.4-.92-.59-1.43-.59-.52 0-1.04.2-1.43.59L10.3 9.45l-7.72 7.72c-.78.78-.78 2.05 0 2.83L4 21.41c.39.39.9.59 1.41.59.51 0 1.02-.2 1.41-.59l7.78-7.78 2.81-2.81c.8-.78.8-2.07 0-2.86zM5.41 20L4 18.59l7.72-7.72 1.47 1.35L5.41 20z\"/>\n",
              "  </svg>\n",
              "      </button>\n",
              "      \n",
              "  <style>\n",
              "    .colab-df-container {\n",
              "      display:flex;\n",
              "      flex-wrap:wrap;\n",
              "      gap: 12px;\n",
              "    }\n",
              "\n",
              "    .colab-df-convert {\n",
              "      background-color: #E8F0FE;\n",
              "      border: none;\n",
              "      border-radius: 50%;\n",
              "      cursor: pointer;\n",
              "      display: none;\n",
              "      fill: #1967D2;\n",
              "      height: 32px;\n",
              "      padding: 0 0 0 0;\n",
              "      width: 32px;\n",
              "    }\n",
              "\n",
              "    .colab-df-convert:hover {\n",
              "      background-color: #E2EBFA;\n",
              "      box-shadow: 0px 1px 2px rgba(60, 64, 67, 0.3), 0px 1px 3px 1px rgba(60, 64, 67, 0.15);\n",
              "      fill: #174EA6;\n",
              "    }\n",
              "\n",
              "    [theme=dark] .colab-df-convert {\n",
              "      background-color: #3B4455;\n",
              "      fill: #D2E3FC;\n",
              "    }\n",
              "\n",
              "    [theme=dark] .colab-df-convert:hover {\n",
              "      background-color: #434B5C;\n",
              "      box-shadow: 0px 1px 3px 1px rgba(0, 0, 0, 0.15);\n",
              "      filter: drop-shadow(0px 1px 2px rgba(0, 0, 0, 0.3));\n",
              "      fill: #FFFFFF;\n",
              "    }\n",
              "  </style>\n",
              "\n",
              "      <script>\n",
              "        const buttonEl =\n",
              "          document.querySelector('#df-0e0ffd54-94ef-4806-8579-e46b09682997 button.colab-df-convert');\n",
              "        buttonEl.style.display =\n",
              "          google.colab.kernel.accessAllowed ? 'block' : 'none';\n",
              "\n",
              "        async function convertToInteractive(key) {\n",
              "          const element = document.querySelector('#df-0e0ffd54-94ef-4806-8579-e46b09682997');\n",
              "          const dataTable =\n",
              "            await google.colab.kernel.invokeFunction('convertToInteractive',\n",
              "                                                     [key], {});\n",
              "          if (!dataTable) return;\n",
              "\n",
              "          const docLinkHtml = 'Like what you see? Visit the ' +\n",
              "            '<a target=\"_blank\" href=https://colab.research.google.com/notebooks/data_table.ipynb>data table notebook</a>'\n",
              "            + ' to learn more about interactive tables.';\n",
              "          element.innerHTML = '';\n",
              "          dataTable['output_type'] = 'display_data';\n",
              "          await google.colab.output.renderOutput(dataTable, element);\n",
              "          const docLink = document.createElement('div');\n",
              "          docLink.innerHTML = docLinkHtml;\n",
              "          element.appendChild(docLink);\n",
              "        }\n",
              "      </script>\n",
              "    </div>\n",
              "  </div>\n",
              "  "
            ]
          },
          "metadata": {},
          "execution_count": 20
        }
      ],
      "source": [
        "temp_df.columns = ['clean_text_lemma', 'text_length_lemma']\n",
        "\n",
        "temp_df.head()"
      ]
    },
    {
      "cell_type": "code",
      "execution_count": 21,
      "id": "c91a927e",
      "metadata": {
        "colab": {
          "base_uri": "https://localhost:8080/",
          "height": 175
        },
        "id": "c91a927e",
        "outputId": "e61d064a-c7c0-4b06-c0fb-6a844fe71701"
      },
      "outputs": [
        {
          "output_type": "execute_result",
          "data": {
            "text/plain": [
              "                             text clean_text_stem  text_length_stem  \\\n",
              "0      it Was the best oF Times $       best time                 2   \n",
              "1    It was The worst of 23times.      worst time                 2   \n",
              "2      IT 9 was tHe age Of wisdom      age wisdom                 2   \n",
              "3  it was thE %age of foolishness     age foolish                 2   \n",
              "\n",
              "  clean_text_lemma  text_length_lemma  \n",
              "0        best time                  2  \n",
              "1       worst time                  2  \n",
              "2       age wisdom                  2  \n",
              "3  age foolishness                  2  "
            ],
            "text/html": [
              "\n",
              "  <div id=\"df-cc335bd4-58eb-4929-a8cd-6a57674ec02d\">\n",
              "    <div class=\"colab-df-container\">\n",
              "      <div>\n",
              "<style scoped>\n",
              "    .dataframe tbody tr th:only-of-type {\n",
              "        vertical-align: middle;\n",
              "    }\n",
              "\n",
              "    .dataframe tbody tr th {\n",
              "        vertical-align: top;\n",
              "    }\n",
              "\n",
              "    .dataframe thead th {\n",
              "        text-align: right;\n",
              "    }\n",
              "</style>\n",
              "<table border=\"1\" class=\"dataframe\">\n",
              "  <thead>\n",
              "    <tr style=\"text-align: right;\">\n",
              "      <th></th>\n",
              "      <th>text</th>\n",
              "      <th>clean_text_stem</th>\n",
              "      <th>text_length_stem</th>\n",
              "      <th>clean_text_lemma</th>\n",
              "      <th>text_length_lemma</th>\n",
              "    </tr>\n",
              "  </thead>\n",
              "  <tbody>\n",
              "    <tr>\n",
              "      <th>0</th>\n",
              "      <td>it Was the best oF Times $</td>\n",
              "      <td>best time</td>\n",
              "      <td>2</td>\n",
              "      <td>best time</td>\n",
              "      <td>2</td>\n",
              "    </tr>\n",
              "    <tr>\n",
              "      <th>1</th>\n",
              "      <td>It was The worst of 23times.</td>\n",
              "      <td>worst time</td>\n",
              "      <td>2</td>\n",
              "      <td>worst time</td>\n",
              "      <td>2</td>\n",
              "    </tr>\n",
              "    <tr>\n",
              "      <th>2</th>\n",
              "      <td>IT 9 was tHe age Of wisdom</td>\n",
              "      <td>age wisdom</td>\n",
              "      <td>2</td>\n",
              "      <td>age wisdom</td>\n",
              "      <td>2</td>\n",
              "    </tr>\n",
              "    <tr>\n",
              "      <th>3</th>\n",
              "      <td>it was thE %age of foolishness</td>\n",
              "      <td>age foolish</td>\n",
              "      <td>2</td>\n",
              "      <td>age foolishness</td>\n",
              "      <td>2</td>\n",
              "    </tr>\n",
              "  </tbody>\n",
              "</table>\n",
              "</div>\n",
              "      <button class=\"colab-df-convert\" onclick=\"convertToInteractive('df-cc335bd4-58eb-4929-a8cd-6a57674ec02d')\"\n",
              "              title=\"Convert this dataframe to an interactive table.\"\n",
              "              style=\"display:none;\">\n",
              "        \n",
              "  <svg xmlns=\"http://www.w3.org/2000/svg\" height=\"24px\"viewBox=\"0 0 24 24\"\n",
              "       width=\"24px\">\n",
              "    <path d=\"M0 0h24v24H0V0z\" fill=\"none\"/>\n",
              "    <path d=\"M18.56 5.44l.94 2.06.94-2.06 2.06-.94-2.06-.94-.94-2.06-.94 2.06-2.06.94zm-11 1L8.5 8.5l.94-2.06 2.06-.94-2.06-.94L8.5 2.5l-.94 2.06-2.06.94zm10 10l.94 2.06.94-2.06 2.06-.94-2.06-.94-.94-2.06-.94 2.06-2.06.94z\"/><path d=\"M17.41 7.96l-1.37-1.37c-.4-.4-.92-.59-1.43-.59-.52 0-1.04.2-1.43.59L10.3 9.45l-7.72 7.72c-.78.78-.78 2.05 0 2.83L4 21.41c.39.39.9.59 1.41.59.51 0 1.02-.2 1.41-.59l7.78-7.78 2.81-2.81c.8-.78.8-2.07 0-2.86zM5.41 20L4 18.59l7.72-7.72 1.47 1.35L5.41 20z\"/>\n",
              "  </svg>\n",
              "      </button>\n",
              "      \n",
              "  <style>\n",
              "    .colab-df-container {\n",
              "      display:flex;\n",
              "      flex-wrap:wrap;\n",
              "      gap: 12px;\n",
              "    }\n",
              "\n",
              "    .colab-df-convert {\n",
              "      background-color: #E8F0FE;\n",
              "      border: none;\n",
              "      border-radius: 50%;\n",
              "      cursor: pointer;\n",
              "      display: none;\n",
              "      fill: #1967D2;\n",
              "      height: 32px;\n",
              "      padding: 0 0 0 0;\n",
              "      width: 32px;\n",
              "    }\n",
              "\n",
              "    .colab-df-convert:hover {\n",
              "      background-color: #E2EBFA;\n",
              "      box-shadow: 0px 1px 2px rgba(60, 64, 67, 0.3), 0px 1px 3px 1px rgba(60, 64, 67, 0.15);\n",
              "      fill: #174EA6;\n",
              "    }\n",
              "\n",
              "    [theme=dark] .colab-df-convert {\n",
              "      background-color: #3B4455;\n",
              "      fill: #D2E3FC;\n",
              "    }\n",
              "\n",
              "    [theme=dark] .colab-df-convert:hover {\n",
              "      background-color: #434B5C;\n",
              "      box-shadow: 0px 1px 3px 1px rgba(0, 0, 0, 0.15);\n",
              "      filter: drop-shadow(0px 1px 2px rgba(0, 0, 0, 0.3));\n",
              "      fill: #FFFFFF;\n",
              "    }\n",
              "  </style>\n",
              "\n",
              "      <script>\n",
              "        const buttonEl =\n",
              "          document.querySelector('#df-cc335bd4-58eb-4929-a8cd-6a57674ec02d button.colab-df-convert');\n",
              "        buttonEl.style.display =\n",
              "          google.colab.kernel.accessAllowed ? 'block' : 'none';\n",
              "\n",
              "        async function convertToInteractive(key) {\n",
              "          const element = document.querySelector('#df-cc335bd4-58eb-4929-a8cd-6a57674ec02d');\n",
              "          const dataTable =\n",
              "            await google.colab.kernel.invokeFunction('convertToInteractive',\n",
              "                                                     [key], {});\n",
              "          if (!dataTable) return;\n",
              "\n",
              "          const docLinkHtml = 'Like what you see? Visit the ' +\n",
              "            '<a target=\"_blank\" href=https://colab.research.google.com/notebooks/data_table.ipynb>data table notebook</a>'\n",
              "            + ' to learn more about interactive tables.';\n",
              "          element.innerHTML = '';\n",
              "          dataTable['output_type'] = 'display_data';\n",
              "          await google.colab.output.renderOutput(dataTable, element);\n",
              "          const docLink = document.createElement('div');\n",
              "          docLink.innerHTML = docLinkHtml;\n",
              "          element.appendChild(docLink);\n",
              "        }\n",
              "      </script>\n",
              "    </div>\n",
              "  </div>\n",
              "  "
            ]
          },
          "metadata": {},
          "execution_count": 21
        }
      ],
      "source": [
        "df = pd.concat([df, temp_df], axis=1)\n",
        "\n",
        "df.head()"
      ]
    },
    {
      "cell_type": "markdown",
      "id": "a08f6265",
      "metadata": {
        "id": "a08f6265"
      },
      "source": [
        "# Bag of Word Representation"
      ]
    },
    {
      "cell_type": "markdown",
      "id": "29676904",
      "metadata": {
        "id": "29676904"
      },
      "source": [
        "We call vectorization the general process of turning a collection of text documents into numerical feature vectors. This\n",
        "\n",
        "specific strategy (tokenization, counting and normalization) is called the Bag of Words or \"Bag of n-grams\" representation.\n",
        "\n",
        "Documents are described by word occurrences while completely ignoring the relative position information of the words in the \n",
        "\n",
        "document.\n",
        "\n",
        "\n",
        "We will use `CountVectorizer` to convert ***text into a matrix of token count.***"
      ]
    },
    {
      "cell_type": "markdown",
      "id": "6a6ffa34",
      "metadata": {
        "id": "6a6ffa34"
      },
      "source": [
        "`Bag of Words`: https://machinelearningmastery.com/gentle-introduction-bag-words-model/\n",
        "\n",
        "`Code Example`: https://machinelearningmastery.com/prepare-text-data-machine-learning-scikit-learn/"
      ]
    },
    {
      "cell_type": "markdown",
      "id": "1c641286",
      "metadata": {
        "id": "1c641286"
      },
      "source": [
        "***We are going to perform below mentioned steps to understand the entire process:***\n",
        "\n",
        " 1. Converting text to numerical vectors with the help of `CountVectorizer`\n",
        " \n",
        " 2. Understand `fit` and `transform`\n",
        " \n",
        " 3. Looking at `vocabulary_`\n",
        " \n",
        " 4. Converting `sparse matrix` to dense matrix using `toarray()`\n",
        " \n",
        " 5. Understanding `n_gram`\n",
        " \n",
        " \n",
        " \n",
        "### Advantages\n",
        "\n",
        " 1. It is simple to understand and implement like OneHotEncoding.\n",
        " \n",
        " \n",
        " 2. We have a fixed length encoding for any sequence of arbitrary length.\n",
        " \n",
        " \n",
        " 3. Documents with same words/vocabulary will have similar representation. So if two documents have a similar vocabulary,           they’ll be closer to each other in the vector space and vice versa.\n",
        " \n",
        " \n",
        "### Disadvantages\n",
        "\n",
        "1. The size of vector increases with the size of the vocabulary. Thus, sparsity continues to be a problem. One way to control it    is by limiting the vocabulary to n number of the most frequent words.\n",
        "\n",
        "\n",
        "2. It does not capture the similarity between different words that mean the same thing.i.e.`Semantic Meaning` is not                  captured.\n",
        "\n",
        "   > a. \"walk\", \"walked\", and \"walking\". BoW vectors of all three tokens will be equally apart.\n",
        "    \n",
        "   > b. \"search\" and \"explore\" are synonyms. BoW won't capture the semantic similarity of these words.\n",
        "\n",
        "\n",
        "3. This representation does not have any way to handle `out of vocabulary (OOV)`words (i.e., new words that were not seen in the     corpus that was used to build the vectorizer).\n",
        "\n",
        "\n",
        "4. As the name indicates, it is a “bag” of words. Word order information is lost in this representation. One way to control it \n",
        "   is by using `n-grams`.\n",
        "   \n",
        "   \n",
        "5. It suffers from ***curse of high dimensionality.***"
      ]
    },
    {
      "cell_type": "code",
      "execution_count": 22,
      "id": "b54a7f7b",
      "metadata": {
        "colab": {
          "base_uri": "https://localhost:8080/",
          "height": 0
        },
        "id": "b54a7f7b",
        "outputId": "303fca0f-9913-4bdd-f4b6-6a3e3051124b"
      },
      "outputs": [
        {
          "output_type": "execute_result",
          "data": {
            "text/plain": [
              "                             text clean_text_stem  text_length_stem  \\\n",
              "0      it Was the best oF Times $       best time                 2   \n",
              "1    It was The worst of 23times.      worst time                 2   \n",
              "2      IT 9 was tHe age Of wisdom      age wisdom                 2   \n",
              "3  it was thE %age of foolishness     age foolish                 2   \n",
              "\n",
              "  clean_text_lemma  text_length_lemma  \n",
              "0        best time                  2  \n",
              "1       worst time                  2  \n",
              "2       age wisdom                  2  \n",
              "3  age foolishness                  2  "
            ],
            "text/html": [
              "\n",
              "  <div id=\"df-6fd19632-48d6-4dee-8b6c-5926006bd8ef\">\n",
              "    <div class=\"colab-df-container\">\n",
              "      <div>\n",
              "<style scoped>\n",
              "    .dataframe tbody tr th:only-of-type {\n",
              "        vertical-align: middle;\n",
              "    }\n",
              "\n",
              "    .dataframe tbody tr th {\n",
              "        vertical-align: top;\n",
              "    }\n",
              "\n",
              "    .dataframe thead th {\n",
              "        text-align: right;\n",
              "    }\n",
              "</style>\n",
              "<table border=\"1\" class=\"dataframe\">\n",
              "  <thead>\n",
              "    <tr style=\"text-align: right;\">\n",
              "      <th></th>\n",
              "      <th>text</th>\n",
              "      <th>clean_text_stem</th>\n",
              "      <th>text_length_stem</th>\n",
              "      <th>clean_text_lemma</th>\n",
              "      <th>text_length_lemma</th>\n",
              "    </tr>\n",
              "  </thead>\n",
              "  <tbody>\n",
              "    <tr>\n",
              "      <th>0</th>\n",
              "      <td>it Was the best oF Times $</td>\n",
              "      <td>best time</td>\n",
              "      <td>2</td>\n",
              "      <td>best time</td>\n",
              "      <td>2</td>\n",
              "    </tr>\n",
              "    <tr>\n",
              "      <th>1</th>\n",
              "      <td>It was The worst of 23times.</td>\n",
              "      <td>worst time</td>\n",
              "      <td>2</td>\n",
              "      <td>worst time</td>\n",
              "      <td>2</td>\n",
              "    </tr>\n",
              "    <tr>\n",
              "      <th>2</th>\n",
              "      <td>IT 9 was tHe age Of wisdom</td>\n",
              "      <td>age wisdom</td>\n",
              "      <td>2</td>\n",
              "      <td>age wisdom</td>\n",
              "      <td>2</td>\n",
              "    </tr>\n",
              "    <tr>\n",
              "      <th>3</th>\n",
              "      <td>it was thE %age of foolishness</td>\n",
              "      <td>age foolish</td>\n",
              "      <td>2</td>\n",
              "      <td>age foolishness</td>\n",
              "      <td>2</td>\n",
              "    </tr>\n",
              "  </tbody>\n",
              "</table>\n",
              "</div>\n",
              "      <button class=\"colab-df-convert\" onclick=\"convertToInteractive('df-6fd19632-48d6-4dee-8b6c-5926006bd8ef')\"\n",
              "              title=\"Convert this dataframe to an interactive table.\"\n",
              "              style=\"display:none;\">\n",
              "        \n",
              "  <svg xmlns=\"http://www.w3.org/2000/svg\" height=\"24px\"viewBox=\"0 0 24 24\"\n",
              "       width=\"24px\">\n",
              "    <path d=\"M0 0h24v24H0V0z\" fill=\"none\"/>\n",
              "    <path d=\"M18.56 5.44l.94 2.06.94-2.06 2.06-.94-2.06-.94-.94-2.06-.94 2.06-2.06.94zm-11 1L8.5 8.5l.94-2.06 2.06-.94-2.06-.94L8.5 2.5l-.94 2.06-2.06.94zm10 10l.94 2.06.94-2.06 2.06-.94-2.06-.94-.94-2.06-.94 2.06-2.06.94z\"/><path d=\"M17.41 7.96l-1.37-1.37c-.4-.4-.92-.59-1.43-.59-.52 0-1.04.2-1.43.59L10.3 9.45l-7.72 7.72c-.78.78-.78 2.05 0 2.83L4 21.41c.39.39.9.59 1.41.59.51 0 1.02-.2 1.41-.59l7.78-7.78 2.81-2.81c.8-.78.8-2.07 0-2.86zM5.41 20L4 18.59l7.72-7.72 1.47 1.35L5.41 20z\"/>\n",
              "  </svg>\n",
              "      </button>\n",
              "      \n",
              "  <style>\n",
              "    .colab-df-container {\n",
              "      display:flex;\n",
              "      flex-wrap:wrap;\n",
              "      gap: 12px;\n",
              "    }\n",
              "\n",
              "    .colab-df-convert {\n",
              "      background-color: #E8F0FE;\n",
              "      border: none;\n",
              "      border-radius: 50%;\n",
              "      cursor: pointer;\n",
              "      display: none;\n",
              "      fill: #1967D2;\n",
              "      height: 32px;\n",
              "      padding: 0 0 0 0;\n",
              "      width: 32px;\n",
              "    }\n",
              "\n",
              "    .colab-df-convert:hover {\n",
              "      background-color: #E2EBFA;\n",
              "      box-shadow: 0px 1px 2px rgba(60, 64, 67, 0.3), 0px 1px 3px 1px rgba(60, 64, 67, 0.15);\n",
              "      fill: #174EA6;\n",
              "    }\n",
              "\n",
              "    [theme=dark] .colab-df-convert {\n",
              "      background-color: #3B4455;\n",
              "      fill: #D2E3FC;\n",
              "    }\n",
              "\n",
              "    [theme=dark] .colab-df-convert:hover {\n",
              "      background-color: #434B5C;\n",
              "      box-shadow: 0px 1px 3px 1px rgba(0, 0, 0, 0.15);\n",
              "      filter: drop-shadow(0px 1px 2px rgba(0, 0, 0, 0.3));\n",
              "      fill: #FFFFFF;\n",
              "    }\n",
              "  </style>\n",
              "\n",
              "      <script>\n",
              "        const buttonEl =\n",
              "          document.querySelector('#df-6fd19632-48d6-4dee-8b6c-5926006bd8ef button.colab-df-convert');\n",
              "        buttonEl.style.display =\n",
              "          google.colab.kernel.accessAllowed ? 'block' : 'none';\n",
              "\n",
              "        async function convertToInteractive(key) {\n",
              "          const element = document.querySelector('#df-6fd19632-48d6-4dee-8b6c-5926006bd8ef');\n",
              "          const dataTable =\n",
              "            await google.colab.kernel.invokeFunction('convertToInteractive',\n",
              "                                                     [key], {});\n",
              "          if (!dataTable) return;\n",
              "\n",
              "          const docLinkHtml = 'Like what you see? Visit the ' +\n",
              "            '<a target=\"_blank\" href=https://colab.research.google.com/notebooks/data_table.ipynb>data table notebook</a>'\n",
              "            + ' to learn more about interactive tables.';\n",
              "          element.innerHTML = '';\n",
              "          dataTable['output_type'] = 'display_data';\n",
              "          await google.colab.output.renderOutput(dataTable, element);\n",
              "          const docLink = document.createElement('div');\n",
              "          docLink.innerHTML = docLinkHtml;\n",
              "          element.appendChild(docLink);\n",
              "        }\n",
              "      </script>\n",
              "    </div>\n",
              "  </div>\n",
              "  "
            ]
          },
          "metadata": {},
          "execution_count": 22
        }
      ],
      "source": [
        "df.head()"
      ]
    },
    {
      "cell_type": "code",
      "execution_count": 23,
      "id": "ee4aa142",
      "metadata": {
        "id": "ee4aa142"
      },
      "outputs": [],
      "source": [
        "# Bag of Words\n",
        "\n",
        "from sklearn.feature_extraction.text import CountVectorizer\n",
        "\n",
        "# Initialize the \"CountVectorizer\" object, which is scikit-learn's\n",
        "# bag of words tool.\n",
        "vocab = CountVectorizer()\n",
        "\n",
        "# fit_transform() does two functions: First, it fits the model\n",
        "# and learns the vocabulary; second, it transforms our training data\n",
        "# into feature vectors. The input to fit_transform should be a list of \n",
        "# strings.\n",
        "\n",
        "dtm = vocab.fit_transform(df['clean_text_lemma'])\n",
        "\n",
        "# fit_transform() could be done seperatly as mentioned below\n",
        "# vocab.fit(df.clean_text_stem)\n",
        "# dtm = vocab.transform(df.clean_text_stem)"
      ]
    },
    {
      "cell_type": "code",
      "execution_count": 24,
      "id": "6aea31f0",
      "metadata": {
        "colab": {
          "base_uri": "https://localhost:8080/"
        },
        "id": "6aea31f0",
        "outputId": "ebecb83c-f18e-4f85-cfa4-d2e10440ce2a"
      },
      "outputs": [
        {
          "output_type": "execute_result",
          "data": {
            "text/plain": [
              "{'best': 1, 'time': 3, 'worst': 5, 'age': 0, 'wisdom': 4, 'foolishness': 2}"
            ]
          },
          "metadata": {},
          "execution_count": 24
        }
      ],
      "source": [
        "# We can look at unique words by using 'vocabulary_'\n",
        "\n",
        "vocab.vocabulary_"
      ]
    },
    {
      "cell_type": "code",
      "execution_count": 25,
      "id": "fc66196d",
      "metadata": {
        "colab": {
          "base_uri": "https://localhost:8080/"
        },
        "id": "fc66196d",
        "outputId": "40c5491f-9e43-45b8-f042-3ffe260ceb93"
      },
      "outputs": [
        {
          "output_type": "stream",
          "name": "stdout",
          "text": [
            "<class 'scipy.sparse.csr.csr_matrix'>\n"
          ]
        }
      ],
      "source": [
        "# Observe that the type of dtm is sparse\n",
        "\n",
        "print(type(dtm))"
      ]
    },
    {
      "cell_type": "code",
      "execution_count": 26,
      "id": "f9fd4bde",
      "metadata": {
        "colab": {
          "base_uri": "https://localhost:8080/"
        },
        "id": "f9fd4bde",
        "outputId": "7661bd32-b28b-4957-8524-c182855401e5"
      },
      "outputs": [
        {
          "output_type": "stream",
          "name": "stdout",
          "text": [
            "(4, 6)\n"
          ]
        }
      ],
      "source": [
        "# Lets now print the  shape of this dtm\n",
        "\n",
        "print(dtm.shape)\n",
        "\n",
        "# o/p -> (4, 6)\n",
        "# i.e -> 4 documents and 6 unique words"
      ]
    },
    {
      "cell_type": "code",
      "execution_count": 27,
      "id": "895fdb6f",
      "metadata": {
        "colab": {
          "base_uri": "https://localhost:8080/"
        },
        "id": "895fdb6f",
        "outputId": "40e9a04a-06b0-42ac-a910-f56fc9e3c86f"
      },
      "outputs": [
        {
          "output_type": "stream",
          "name": "stdout",
          "text": [
            "  (0, 1)\t1\n",
            "  (0, 3)\t1\n",
            "  (1, 3)\t1\n",
            "  (1, 5)\t1\n",
            "  (2, 0)\t1\n",
            "  (2, 4)\t1\n",
            "  (3, 0)\t1\n",
            "  (3, 2)\t1\n"
          ]
        }
      ],
      "source": [
        "# Lets look at the dtm\n",
        "\n",
        "print(dtm)\n",
        "\n",
        "# Remember that dtm is a sparse matrix. i.e. zeros wont be stored\n",
        "# Lets understand First line of output -> (0,1)    1\n",
        "# Here (0, 1) means 0th document and 1st(index starting from 0) unique word. \n",
        "# (we have total 4 documents) & (we have total 6 unique words)\n",
        "# (0, 1)    1 -> 1 here refers to the number of occurence of 1st word\n",
        "# Now lets read it all in english.\n",
        "# (0, 1)    1 -> 'times' occurs 1 time in 0th document. \n",
        "# Try to observe -> (3, 2)   1"
      ]
    },
    {
      "cell_type": "code",
      "execution_count": 28,
      "id": "e6e514ac",
      "metadata": {
        "colab": {
          "base_uri": "https://localhost:8080/"
        },
        "id": "e6e514ac",
        "outputId": "6e1be85a-0676-410d-90bb-e12109e524fb"
      },
      "outputs": [
        {
          "output_type": "stream",
          "name": "stdout",
          "text": [
            "[[0 1 0 1 0 0]\n",
            " [0 0 0 1 0 1]\n",
            " [1 0 0 0 1 0]\n",
            " [1 0 1 0 0 0]]\n"
          ]
        }
      ],
      "source": [
        "# Since the dtm is sparse, lets convert it into numpy array.\n",
        "\n",
        "print(dtm.toarray())"
      ]
    },
    {
      "cell_type": "code",
      "execution_count": 29,
      "id": "3abb4d8e",
      "metadata": {
        "colab": {
          "base_uri": "https://localhost:8080/"
        },
        "id": "3abb4d8e",
        "outputId": "2e1d6673-13b8-4aa6-9bf3-5e5f14cd4211"
      },
      "outputs": [
        {
          "output_type": "execute_result",
          "data": {
            "text/plain": [
              "['age', 'best', 'foolishness', 'time', 'wisdom', 'worst']"
            ]
          },
          "metadata": {},
          "execution_count": 29
        }
      ],
      "source": [
        "sorted(vocab.vocabulary_)"
      ]
    },
    {
      "cell_type": "code",
      "execution_count": 30,
      "id": "39afa003",
      "metadata": {
        "colab": {
          "base_uri": "https://localhost:8080/",
          "height": 0
        },
        "id": "39afa003",
        "outputId": "e81632de-d372-4d52-edc6-71bea5a9ffb2"
      },
      "outputs": [
        {
          "output_type": "execute_result",
          "data": {
            "text/plain": [
              "   age  best  foolishness  time  wisdom  worst\n",
              "0    0     1            0     1       0      0\n",
              "1    0     0            0     1       0      1\n",
              "2    1     0            0     0       1      0\n",
              "3    1     0            1     0       0      0"
            ],
            "text/html": [
              "\n",
              "  <div id=\"df-71b52ecc-79f8-4232-a2dc-870396f67ce1\">\n",
              "    <div class=\"colab-df-container\">\n",
              "      <div>\n",
              "<style scoped>\n",
              "    .dataframe tbody tr th:only-of-type {\n",
              "        vertical-align: middle;\n",
              "    }\n",
              "\n",
              "    .dataframe tbody tr th {\n",
              "        vertical-align: top;\n",
              "    }\n",
              "\n",
              "    .dataframe thead th {\n",
              "        text-align: right;\n",
              "    }\n",
              "</style>\n",
              "<table border=\"1\" class=\"dataframe\">\n",
              "  <thead>\n",
              "    <tr style=\"text-align: right;\">\n",
              "      <th></th>\n",
              "      <th>age</th>\n",
              "      <th>best</th>\n",
              "      <th>foolishness</th>\n",
              "      <th>time</th>\n",
              "      <th>wisdom</th>\n",
              "      <th>worst</th>\n",
              "    </tr>\n",
              "  </thead>\n",
              "  <tbody>\n",
              "    <tr>\n",
              "      <th>0</th>\n",
              "      <td>0</td>\n",
              "      <td>1</td>\n",
              "      <td>0</td>\n",
              "      <td>1</td>\n",
              "      <td>0</td>\n",
              "      <td>0</td>\n",
              "    </tr>\n",
              "    <tr>\n",
              "      <th>1</th>\n",
              "      <td>0</td>\n",
              "      <td>0</td>\n",
              "      <td>0</td>\n",
              "      <td>1</td>\n",
              "      <td>0</td>\n",
              "      <td>1</td>\n",
              "    </tr>\n",
              "    <tr>\n",
              "      <th>2</th>\n",
              "      <td>1</td>\n",
              "      <td>0</td>\n",
              "      <td>0</td>\n",
              "      <td>0</td>\n",
              "      <td>1</td>\n",
              "      <td>0</td>\n",
              "    </tr>\n",
              "    <tr>\n",
              "      <th>3</th>\n",
              "      <td>1</td>\n",
              "      <td>0</td>\n",
              "      <td>1</td>\n",
              "      <td>0</td>\n",
              "      <td>0</td>\n",
              "      <td>0</td>\n",
              "    </tr>\n",
              "  </tbody>\n",
              "</table>\n",
              "</div>\n",
              "      <button class=\"colab-df-convert\" onclick=\"convertToInteractive('df-71b52ecc-79f8-4232-a2dc-870396f67ce1')\"\n",
              "              title=\"Convert this dataframe to an interactive table.\"\n",
              "              style=\"display:none;\">\n",
              "        \n",
              "  <svg xmlns=\"http://www.w3.org/2000/svg\" height=\"24px\"viewBox=\"0 0 24 24\"\n",
              "       width=\"24px\">\n",
              "    <path d=\"M0 0h24v24H0V0z\" fill=\"none\"/>\n",
              "    <path d=\"M18.56 5.44l.94 2.06.94-2.06 2.06-.94-2.06-.94-.94-2.06-.94 2.06-2.06.94zm-11 1L8.5 8.5l.94-2.06 2.06-.94-2.06-.94L8.5 2.5l-.94 2.06-2.06.94zm10 10l.94 2.06.94-2.06 2.06-.94-2.06-.94-.94-2.06-.94 2.06-2.06.94z\"/><path d=\"M17.41 7.96l-1.37-1.37c-.4-.4-.92-.59-1.43-.59-.52 0-1.04.2-1.43.59L10.3 9.45l-7.72 7.72c-.78.78-.78 2.05 0 2.83L4 21.41c.39.39.9.59 1.41.59.51 0 1.02-.2 1.41-.59l7.78-7.78 2.81-2.81c.8-.78.8-2.07 0-2.86zM5.41 20L4 18.59l7.72-7.72 1.47 1.35L5.41 20z\"/>\n",
              "  </svg>\n",
              "      </button>\n",
              "      \n",
              "  <style>\n",
              "    .colab-df-container {\n",
              "      display:flex;\n",
              "      flex-wrap:wrap;\n",
              "      gap: 12px;\n",
              "    }\n",
              "\n",
              "    .colab-df-convert {\n",
              "      background-color: #E8F0FE;\n",
              "      border: none;\n",
              "      border-radius: 50%;\n",
              "      cursor: pointer;\n",
              "      display: none;\n",
              "      fill: #1967D2;\n",
              "      height: 32px;\n",
              "      padding: 0 0 0 0;\n",
              "      width: 32px;\n",
              "    }\n",
              "\n",
              "    .colab-df-convert:hover {\n",
              "      background-color: #E2EBFA;\n",
              "      box-shadow: 0px 1px 2px rgba(60, 64, 67, 0.3), 0px 1px 3px 1px rgba(60, 64, 67, 0.15);\n",
              "      fill: #174EA6;\n",
              "    }\n",
              "\n",
              "    [theme=dark] .colab-df-convert {\n",
              "      background-color: #3B4455;\n",
              "      fill: #D2E3FC;\n",
              "    }\n",
              "\n",
              "    [theme=dark] .colab-df-convert:hover {\n",
              "      background-color: #434B5C;\n",
              "      box-shadow: 0px 1px 3px 1px rgba(0, 0, 0, 0.15);\n",
              "      filter: drop-shadow(0px 1px 2px rgba(0, 0, 0, 0.3));\n",
              "      fill: #FFFFFF;\n",
              "    }\n",
              "  </style>\n",
              "\n",
              "      <script>\n",
              "        const buttonEl =\n",
              "          document.querySelector('#df-71b52ecc-79f8-4232-a2dc-870396f67ce1 button.colab-df-convert');\n",
              "        buttonEl.style.display =\n",
              "          google.colab.kernel.accessAllowed ? 'block' : 'none';\n",
              "\n",
              "        async function convertToInteractive(key) {\n",
              "          const element = document.querySelector('#df-71b52ecc-79f8-4232-a2dc-870396f67ce1');\n",
              "          const dataTable =\n",
              "            await google.colab.kernel.invokeFunction('convertToInteractive',\n",
              "                                                     [key], {});\n",
              "          if (!dataTable) return;\n",
              "\n",
              "          const docLinkHtml = 'Like what you see? Visit the ' +\n",
              "            '<a target=\"_blank\" href=https://colab.research.google.com/notebooks/data_table.ipynb>data table notebook</a>'\n",
              "            + ' to learn more about interactive tables.';\n",
              "          element.innerHTML = '';\n",
              "          dataTable['output_type'] = 'display_data';\n",
              "          await google.colab.output.renderOutput(dataTable, element);\n",
              "          const docLink = document.createElement('div');\n",
              "          docLink.innerHTML = docLinkHtml;\n",
              "          element.appendChild(docLink);\n",
              "        }\n",
              "      </script>\n",
              "    </div>\n",
              "  </div>\n",
              "  "
            ]
          },
          "metadata": {},
          "execution_count": 30
        }
      ],
      "source": [
        "pd.DataFrame(dtm.toarray(), columns=sorted(vocab.vocabulary_))\n"
      ]
    },
    {
      "cell_type": "code",
      "execution_count": 31,
      "id": "c25b9076",
      "metadata": {
        "id": "c25b9076"
      },
      "outputs": [],
      "source": [
        "# 2-grams\n",
        "\n",
        "vocab = CountVectorizer(ngram_range=[1,2])\n",
        "\n",
        "dtm = vocab.fit_transform(df.clean_text_stem)"
      ]
    },
    {
      "cell_type": "code",
      "execution_count": 32,
      "id": "50ec445e",
      "metadata": {
        "colab": {
          "base_uri": "https://localhost:8080/"
        },
        "id": "50ec445e",
        "outputId": "a6c65c79-67e3-4ede-abe1-492f11aad2ca"
      },
      "outputs": [
        {
          "output_type": "stream",
          "name": "stdout",
          "text": [
            "{'best': 3, 'time': 6, 'best time': 4, 'worst': 8, 'worst time': 9, 'age': 0, 'wisdom': 7, 'age wisdom': 2, 'foolish': 5, 'age foolish': 1}\n"
          ]
        }
      ],
      "source": [
        "print(vocab.vocabulary_)\n"
      ]
    },
    {
      "cell_type": "code",
      "execution_count": 33,
      "id": "1b9bb738",
      "metadata": {
        "colab": {
          "base_uri": "https://localhost:8080/"
        },
        "id": "1b9bb738",
        "outputId": "49a0e7ac-e5b0-42d7-8aee-6d566e88686b"
      },
      "outputs": [
        {
          "output_type": "stream",
          "name": "stdout",
          "text": [
            "[[0 0 0 1 1 0 1 0 0 0]\n",
            " [0 0 0 0 0 0 1 0 1 1]\n",
            " [1 0 1 0 0 0 0 1 0 0]\n",
            " [1 1 0 0 0 1 0 0 0 0]]\n"
          ]
        }
      ],
      "source": [
        "# convert sparse matrix to numpy array\n",
        "print(dtm.toarray())"
      ]
    },
    {
      "cell_type": "code",
      "execution_count": 34,
      "id": "21017189",
      "metadata": {
        "colab": {
          "base_uri": "https://localhost:8080/",
          "height": 0
        },
        "id": "21017189",
        "outputId": "9bc32a75-90ba-46f1-fb9b-5c485a22ecc1"
      },
      "outputs": [
        {
          "output_type": "execute_result",
          "data": {
            "text/plain": [
              "   age  age foolish  age wisdom  best  best time  foolish  time  wisdom  \\\n",
              "0    0            0           0     1          1        0     1       0   \n",
              "1    0            0           0     0          0        0     1       0   \n",
              "2    1            0           1     0          0        0     0       1   \n",
              "3    1            1           0     0          0        1     0       0   \n",
              "\n",
              "   worst  worst time  \n",
              "0      0           0  \n",
              "1      1           1  \n",
              "2      0           0  \n",
              "3      0           0  "
            ],
            "text/html": [
              "\n",
              "  <div id=\"df-aebf6999-57d7-4f89-9098-011205224f7e\">\n",
              "    <div class=\"colab-df-container\">\n",
              "      <div>\n",
              "<style scoped>\n",
              "    .dataframe tbody tr th:only-of-type {\n",
              "        vertical-align: middle;\n",
              "    }\n",
              "\n",
              "    .dataframe tbody tr th {\n",
              "        vertical-align: top;\n",
              "    }\n",
              "\n",
              "    .dataframe thead th {\n",
              "        text-align: right;\n",
              "    }\n",
              "</style>\n",
              "<table border=\"1\" class=\"dataframe\">\n",
              "  <thead>\n",
              "    <tr style=\"text-align: right;\">\n",
              "      <th></th>\n",
              "      <th>age</th>\n",
              "      <th>age foolish</th>\n",
              "      <th>age wisdom</th>\n",
              "      <th>best</th>\n",
              "      <th>best time</th>\n",
              "      <th>foolish</th>\n",
              "      <th>time</th>\n",
              "      <th>wisdom</th>\n",
              "      <th>worst</th>\n",
              "      <th>worst time</th>\n",
              "    </tr>\n",
              "  </thead>\n",
              "  <tbody>\n",
              "    <tr>\n",
              "      <th>0</th>\n",
              "      <td>0</td>\n",
              "      <td>0</td>\n",
              "      <td>0</td>\n",
              "      <td>1</td>\n",
              "      <td>1</td>\n",
              "      <td>0</td>\n",
              "      <td>1</td>\n",
              "      <td>0</td>\n",
              "      <td>0</td>\n",
              "      <td>0</td>\n",
              "    </tr>\n",
              "    <tr>\n",
              "      <th>1</th>\n",
              "      <td>0</td>\n",
              "      <td>0</td>\n",
              "      <td>0</td>\n",
              "      <td>0</td>\n",
              "      <td>0</td>\n",
              "      <td>0</td>\n",
              "      <td>1</td>\n",
              "      <td>0</td>\n",
              "      <td>1</td>\n",
              "      <td>1</td>\n",
              "    </tr>\n",
              "    <tr>\n",
              "      <th>2</th>\n",
              "      <td>1</td>\n",
              "      <td>0</td>\n",
              "      <td>1</td>\n",
              "      <td>0</td>\n",
              "      <td>0</td>\n",
              "      <td>0</td>\n",
              "      <td>0</td>\n",
              "      <td>1</td>\n",
              "      <td>0</td>\n",
              "      <td>0</td>\n",
              "    </tr>\n",
              "    <tr>\n",
              "      <th>3</th>\n",
              "      <td>1</td>\n",
              "      <td>1</td>\n",
              "      <td>0</td>\n",
              "      <td>0</td>\n",
              "      <td>0</td>\n",
              "      <td>1</td>\n",
              "      <td>0</td>\n",
              "      <td>0</td>\n",
              "      <td>0</td>\n",
              "      <td>0</td>\n",
              "    </tr>\n",
              "  </tbody>\n",
              "</table>\n",
              "</div>\n",
              "      <button class=\"colab-df-convert\" onclick=\"convertToInteractive('df-aebf6999-57d7-4f89-9098-011205224f7e')\"\n",
              "              title=\"Convert this dataframe to an interactive table.\"\n",
              "              style=\"display:none;\">\n",
              "        \n",
              "  <svg xmlns=\"http://www.w3.org/2000/svg\" height=\"24px\"viewBox=\"0 0 24 24\"\n",
              "       width=\"24px\">\n",
              "    <path d=\"M0 0h24v24H0V0z\" fill=\"none\"/>\n",
              "    <path d=\"M18.56 5.44l.94 2.06.94-2.06 2.06-.94-2.06-.94-.94-2.06-.94 2.06-2.06.94zm-11 1L8.5 8.5l.94-2.06 2.06-.94-2.06-.94L8.5 2.5l-.94 2.06-2.06.94zm10 10l.94 2.06.94-2.06 2.06-.94-2.06-.94-.94-2.06-.94 2.06-2.06.94z\"/><path d=\"M17.41 7.96l-1.37-1.37c-.4-.4-.92-.59-1.43-.59-.52 0-1.04.2-1.43.59L10.3 9.45l-7.72 7.72c-.78.78-.78 2.05 0 2.83L4 21.41c.39.39.9.59 1.41.59.51 0 1.02-.2 1.41-.59l7.78-7.78 2.81-2.81c.8-.78.8-2.07 0-2.86zM5.41 20L4 18.59l7.72-7.72 1.47 1.35L5.41 20z\"/>\n",
              "  </svg>\n",
              "      </button>\n",
              "      \n",
              "  <style>\n",
              "    .colab-df-container {\n",
              "      display:flex;\n",
              "      flex-wrap:wrap;\n",
              "      gap: 12px;\n",
              "    }\n",
              "\n",
              "    .colab-df-convert {\n",
              "      background-color: #E8F0FE;\n",
              "      border: none;\n",
              "      border-radius: 50%;\n",
              "      cursor: pointer;\n",
              "      display: none;\n",
              "      fill: #1967D2;\n",
              "      height: 32px;\n",
              "      padding: 0 0 0 0;\n",
              "      width: 32px;\n",
              "    }\n",
              "\n",
              "    .colab-df-convert:hover {\n",
              "      background-color: #E2EBFA;\n",
              "      box-shadow: 0px 1px 2px rgba(60, 64, 67, 0.3), 0px 1px 3px 1px rgba(60, 64, 67, 0.15);\n",
              "      fill: #174EA6;\n",
              "    }\n",
              "\n",
              "    [theme=dark] .colab-df-convert {\n",
              "      background-color: #3B4455;\n",
              "      fill: #D2E3FC;\n",
              "    }\n",
              "\n",
              "    [theme=dark] .colab-df-convert:hover {\n",
              "      background-color: #434B5C;\n",
              "      box-shadow: 0px 1px 3px 1px rgba(0, 0, 0, 0.15);\n",
              "      filter: drop-shadow(0px 1px 2px rgba(0, 0, 0, 0.3));\n",
              "      fill: #FFFFFF;\n",
              "    }\n",
              "  </style>\n",
              "\n",
              "      <script>\n",
              "        const buttonEl =\n",
              "          document.querySelector('#df-aebf6999-57d7-4f89-9098-011205224f7e button.colab-df-convert');\n",
              "        buttonEl.style.display =\n",
              "          google.colab.kernel.accessAllowed ? 'block' : 'none';\n",
              "\n",
              "        async function convertToInteractive(key) {\n",
              "          const element = document.querySelector('#df-aebf6999-57d7-4f89-9098-011205224f7e');\n",
              "          const dataTable =\n",
              "            await google.colab.kernel.invokeFunction('convertToInteractive',\n",
              "                                                     [key], {});\n",
              "          if (!dataTable) return;\n",
              "\n",
              "          const docLinkHtml = 'Like what you see? Visit the ' +\n",
              "            '<a target=\"_blank\" href=https://colab.research.google.com/notebooks/data_table.ipynb>data table notebook</a>'\n",
              "            + ' to learn more about interactive tables.';\n",
              "          element.innerHTML = '';\n",
              "          dataTable['output_type'] = 'display_data';\n",
              "          await google.colab.output.renderOutput(dataTable, element);\n",
              "          const docLink = document.createElement('div');\n",
              "          docLink.innerHTML = docLinkHtml;\n",
              "          element.appendChild(docLink);\n",
              "        }\n",
              "      </script>\n",
              "    </div>\n",
              "  </div>\n",
              "  "
            ]
          },
          "metadata": {},
          "execution_count": 34
        }
      ],
      "source": [
        "pd.DataFrame(dtm.toarray(), columns=sorted(vocab.vocabulary_))\n"
      ]
    },
    {
      "cell_type": "markdown",
      "id": "ee5851fa",
      "metadata": {
        "id": "ee5851fa"
      },
      "source": [
        "#### Observations:\n",
        "\n",
        "1. `vect.fit(lst_text)` **learns the vocabulary**\n",
        "2. `vect.transform(lst_text)` **uses the fitted vocabulary to build a document-term matrix**"
      ]
    },
    {
      "cell_type": "markdown",
      "id": "5091b60e",
      "metadata": {
        "id": "5091b60e"
      },
      "source": [
        "## Term Frequency Inverse Document Frequency"
      ]
    },
    {
      "cell_type": "markdown",
      "id": "b295c9c5",
      "metadata": {
        "id": "b295c9c5"
      },
      "source": [
        "In BOW approach all the words in the text are treated as equally important i.e. there's no notion of some words in the document\n",
        "\n",
        "being more important than others. TF-IDF, or term frequency-inverse document frequency, addresses this issue. It aims to \n",
        "\n",
        "quantify the importance of a given word relative to other words in the document and in the corpus.\n",
        "\n",
        "***\n",
        "\n",
        "Let's now try to understand:\n",
        "\n",
        "1. Term Frequency\n",
        "2. Inverse Document Frequency\n",
        "\n",
        "\n",
        "![gif.gif](attachment:gif.gif)\n"
      ]
    },
    {
      "cell_type": "markdown",
      "id": "1031c0eb",
      "metadata": {
        "id": "1031c0eb"
      },
      "source": [
        "![gif.gif](attachment:gif.gif)\n",
        "\n",
        "![gif-2.gif](attachment:gif-2.gif)\n",
        "\n",
        "***"
      ]
    },
    {
      "cell_type": "markdown",
      "id": "92f44afb",
      "metadata": {
        "id": "92f44afb"
      },
      "source": [
        "### Advantages\n",
        "\n",
        "1. If the word is rare in the corpus, it will be given more importance. (i.e. IDF)\n",
        "2. If the word is more frequent in a document, it will be given more importance. (i.e. TF)\n",
        "\n",
        "### Disadvantages\n",
        "\n",
        "> ***Same as BOW***"
      ]
    },
    {
      "cell_type": "code",
      "execution_count": 35,
      "id": "485604aa",
      "metadata": {
        "id": "485604aa"
      },
      "outputs": [],
      "source": [
        "# TF-IDF\n",
        "\n",
        "from sklearn.feature_extraction.text import TfidfVectorizer\n",
        "\n",
        "vectorizer = TfidfVectorizer()\n",
        "\n",
        "dtm = vectorizer.fit_transform(df.clean_text_lemma)"
      ]
    },
    {
      "cell_type": "code",
      "execution_count": 36,
      "id": "138f2c09",
      "metadata": {
        "colab": {
          "base_uri": "https://localhost:8080/"
        },
        "id": "138f2c09",
        "outputId": "b1fb32ea-42ad-43a3-933e-71f1be8a18f4"
      },
      "outputs": [
        {
          "output_type": "stream",
          "name": "stdout",
          "text": [
            "{'best': 1, 'time': 3, 'worst': 5, 'age': 0, 'wisdom': 4, 'foolishness': 2}\n"
          ]
        }
      ],
      "source": [
        "print(vectorizer.vocabulary_)\n"
      ]
    },
    {
      "cell_type": "code",
      "execution_count": 37,
      "id": "d00717fa",
      "metadata": {
        "colab": {
          "base_uri": "https://localhost:8080/"
        },
        "id": "d00717fa",
        "outputId": "dbc2bbe8-dc5d-45db-f7a9-e8aaccdd5c59"
      },
      "outputs": [
        {
          "output_type": "stream",
          "name": "stdout",
          "text": [
            "[[0.         0.78528828 0.         0.6191303  0.         0.        ]\n",
            " [0.         0.         0.         0.6191303  0.         0.78528828]\n",
            " [0.6191303  0.         0.         0.         0.78528828 0.        ]\n",
            " [0.6191303  0.         0.78528828 0.         0.         0.        ]]\n"
          ]
        }
      ],
      "source": [
        "# convert sparse matrix to nparray\n",
        "print(dtm.toarray()) "
      ]
    },
    {
      "cell_type": "code",
      "execution_count": 38,
      "id": "cdbba97d",
      "metadata": {
        "colab": {
          "base_uri": "https://localhost:8080/",
          "height": 0
        },
        "id": "cdbba97d",
        "outputId": "3e8cd200-f551-4d77-9363-ff08a4b8c967"
      },
      "outputs": [
        {
          "output_type": "execute_result",
          "data": {
            "text/plain": [
              "       age      best  foolishness     time    wisdom     worst\n",
              "0  0.00000  0.785288     0.000000  0.61913  0.000000  0.000000\n",
              "1  0.00000  0.000000     0.000000  0.61913  0.000000  0.785288\n",
              "2  0.61913  0.000000     0.000000  0.00000  0.785288  0.000000\n",
              "3  0.61913  0.000000     0.785288  0.00000  0.000000  0.000000"
            ],
            "text/html": [
              "\n",
              "  <div id=\"df-ae307ab9-4079-436c-97f2-7fb1a0253ad7\">\n",
              "    <div class=\"colab-df-container\">\n",
              "      <div>\n",
              "<style scoped>\n",
              "    .dataframe tbody tr th:only-of-type {\n",
              "        vertical-align: middle;\n",
              "    }\n",
              "\n",
              "    .dataframe tbody tr th {\n",
              "        vertical-align: top;\n",
              "    }\n",
              "\n",
              "    .dataframe thead th {\n",
              "        text-align: right;\n",
              "    }\n",
              "</style>\n",
              "<table border=\"1\" class=\"dataframe\">\n",
              "  <thead>\n",
              "    <tr style=\"text-align: right;\">\n",
              "      <th></th>\n",
              "      <th>age</th>\n",
              "      <th>best</th>\n",
              "      <th>foolishness</th>\n",
              "      <th>time</th>\n",
              "      <th>wisdom</th>\n",
              "      <th>worst</th>\n",
              "    </tr>\n",
              "  </thead>\n",
              "  <tbody>\n",
              "    <tr>\n",
              "      <th>0</th>\n",
              "      <td>0.00000</td>\n",
              "      <td>0.785288</td>\n",
              "      <td>0.000000</td>\n",
              "      <td>0.61913</td>\n",
              "      <td>0.000000</td>\n",
              "      <td>0.000000</td>\n",
              "    </tr>\n",
              "    <tr>\n",
              "      <th>1</th>\n",
              "      <td>0.00000</td>\n",
              "      <td>0.000000</td>\n",
              "      <td>0.000000</td>\n",
              "      <td>0.61913</td>\n",
              "      <td>0.000000</td>\n",
              "      <td>0.785288</td>\n",
              "    </tr>\n",
              "    <tr>\n",
              "      <th>2</th>\n",
              "      <td>0.61913</td>\n",
              "      <td>0.000000</td>\n",
              "      <td>0.000000</td>\n",
              "      <td>0.00000</td>\n",
              "      <td>0.785288</td>\n",
              "      <td>0.000000</td>\n",
              "    </tr>\n",
              "    <tr>\n",
              "      <th>3</th>\n",
              "      <td>0.61913</td>\n",
              "      <td>0.000000</td>\n",
              "      <td>0.785288</td>\n",
              "      <td>0.00000</td>\n",
              "      <td>0.000000</td>\n",
              "      <td>0.000000</td>\n",
              "    </tr>\n",
              "  </tbody>\n",
              "</table>\n",
              "</div>\n",
              "      <button class=\"colab-df-convert\" onclick=\"convertToInteractive('df-ae307ab9-4079-436c-97f2-7fb1a0253ad7')\"\n",
              "              title=\"Convert this dataframe to an interactive table.\"\n",
              "              style=\"display:none;\">\n",
              "        \n",
              "  <svg xmlns=\"http://www.w3.org/2000/svg\" height=\"24px\"viewBox=\"0 0 24 24\"\n",
              "       width=\"24px\">\n",
              "    <path d=\"M0 0h24v24H0V0z\" fill=\"none\"/>\n",
              "    <path d=\"M18.56 5.44l.94 2.06.94-2.06 2.06-.94-2.06-.94-.94-2.06-.94 2.06-2.06.94zm-11 1L8.5 8.5l.94-2.06 2.06-.94-2.06-.94L8.5 2.5l-.94 2.06-2.06.94zm10 10l.94 2.06.94-2.06 2.06-.94-2.06-.94-.94-2.06-.94 2.06-2.06.94z\"/><path d=\"M17.41 7.96l-1.37-1.37c-.4-.4-.92-.59-1.43-.59-.52 0-1.04.2-1.43.59L10.3 9.45l-7.72 7.72c-.78.78-.78 2.05 0 2.83L4 21.41c.39.39.9.59 1.41.59.51 0 1.02-.2 1.41-.59l7.78-7.78 2.81-2.81c.8-.78.8-2.07 0-2.86zM5.41 20L4 18.59l7.72-7.72 1.47 1.35L5.41 20z\"/>\n",
              "  </svg>\n",
              "      </button>\n",
              "      \n",
              "  <style>\n",
              "    .colab-df-container {\n",
              "      display:flex;\n",
              "      flex-wrap:wrap;\n",
              "      gap: 12px;\n",
              "    }\n",
              "\n",
              "    .colab-df-convert {\n",
              "      background-color: #E8F0FE;\n",
              "      border: none;\n",
              "      border-radius: 50%;\n",
              "      cursor: pointer;\n",
              "      display: none;\n",
              "      fill: #1967D2;\n",
              "      height: 32px;\n",
              "      padding: 0 0 0 0;\n",
              "      width: 32px;\n",
              "    }\n",
              "\n",
              "    .colab-df-convert:hover {\n",
              "      background-color: #E2EBFA;\n",
              "      box-shadow: 0px 1px 2px rgba(60, 64, 67, 0.3), 0px 1px 3px 1px rgba(60, 64, 67, 0.15);\n",
              "      fill: #174EA6;\n",
              "    }\n",
              "\n",
              "    [theme=dark] .colab-df-convert {\n",
              "      background-color: #3B4455;\n",
              "      fill: #D2E3FC;\n",
              "    }\n",
              "\n",
              "    [theme=dark] .colab-df-convert:hover {\n",
              "      background-color: #434B5C;\n",
              "      box-shadow: 0px 1px 3px 1px rgba(0, 0, 0, 0.15);\n",
              "      filter: drop-shadow(0px 1px 2px rgba(0, 0, 0, 0.3));\n",
              "      fill: #FFFFFF;\n",
              "    }\n",
              "  </style>\n",
              "\n",
              "      <script>\n",
              "        const buttonEl =\n",
              "          document.querySelector('#df-ae307ab9-4079-436c-97f2-7fb1a0253ad7 button.colab-df-convert');\n",
              "        buttonEl.style.display =\n",
              "          google.colab.kernel.accessAllowed ? 'block' : 'none';\n",
              "\n",
              "        async function convertToInteractive(key) {\n",
              "          const element = document.querySelector('#df-ae307ab9-4079-436c-97f2-7fb1a0253ad7');\n",
              "          const dataTable =\n",
              "            await google.colab.kernel.invokeFunction('convertToInteractive',\n",
              "                                                     [key], {});\n",
              "          if (!dataTable) return;\n",
              "\n",
              "          const docLinkHtml = 'Like what you see? Visit the ' +\n",
              "            '<a target=\"_blank\" href=https://colab.research.google.com/notebooks/data_table.ipynb>data table notebook</a>'\n",
              "            + ' to learn more about interactive tables.';\n",
              "          element.innerHTML = '';\n",
              "          dataTable['output_type'] = 'display_data';\n",
              "          await google.colab.output.renderOutput(dataTable, element);\n",
              "          const docLink = document.createElement('div');\n",
              "          docLink.innerHTML = docLinkHtml;\n",
              "          element.appendChild(docLink);\n",
              "        }\n",
              "      </script>\n",
              "    </div>\n",
              "  </div>\n",
              "  "
            ]
          },
          "metadata": {},
          "execution_count": 38
        }
      ],
      "source": [
        "pd.DataFrame(dtm.toarray(), columns=sorted(vectorizer.vocabulary_))\n"
      ]
    },
    {
      "cell_type": "markdown",
      "id": "8eabdda9",
      "metadata": {
        "id": "8eabdda9"
      },
      "source": [
        "## Latent Space\n",
        "\n",
        "\n",
        "A latent space, also known as a latent feature space or embedding space, is an embedding of a set of items within a manifold in \n",
        "which items which resemble each other more closely are positioned closer to one another in the latent space."
      ]
    },
    {
      "cell_type": "markdown",
      "id": "4eea15ba",
      "metadata": {
        "id": "4eea15ba"
      },
      "source": [
        "## Word Embeddings (Word Vectors)"
      ]
    },
    {
      "cell_type": "markdown",
      "id": "3ab32ddb",
      "metadata": {
        "id": "3ab32ddb"
      },
      "source": [
        "In natural language processing (NLP), [word embedding](https://en.wikipedia.org/wiki/Word_embedding) is a term used for the representation of words for text analysis, typically in the form of a real-valued vector that encodes the meaning of the word such that the words that are closer in the vector space are expected to be similar in meaning. Word embeddings can be obtained using a set of [language modeling](https://en.wikipedia.org/wiki/Language_model) and [feature learning](https://en.wikipedia.org/wiki/Feature_learning) techniques where words or phrases from the vocabulary are mapped to vectors of real numbers.\n",
        "\n",
        "\n",
        "Methods to generate this mapping include **neural networks**, **dimensionality reduction on the word co-occurrence matrix**, **probabilistic models**, **explainable knowledge base method**, and **explicit representation in terms of the context in which words appear**.\n",
        "\n",
        "\n",
        "Traditionally, one of the main **limitations of word embeddings** (word vector space models in general) is that words with multiple meanings are conflated into a single representation (a single vector in the semantic space). In other words, [polysemy](https://en.wikipedia.org/wiki/Polysemy) and [homonymy](https://en.wikipedia.org/wiki/Homonym) are not handled properly.\n"
      ]
    },
    {
      "cell_type": "markdown",
      "id": "ffe3c3fe",
      "metadata": {
        "id": "ffe3c3fe"
      },
      "source": [
        "## Word2Vec\n",
        "\n",
        "\n",
        "\n",
        "\n",
        "\"You shall know the word by the company it keeps.\" by JR Firth\n",
        "\n",
        "***Distributional Semantics (i.e. a word is characterized by the company it keeps)***\n",
        "\n",
        "W2v works well because there is an idea of meaning distribution in the context.\n",
        "\n",
        "\n",
        "***Algorithms to generate Word2Vec Embeddings***\n",
        "\n",
        " 1. SkipGram\n",
        " 2. Continuous Bag of Words\n",
        " \n",
        "***Issue***\n",
        "\n",
        "Even if the word is having three different meaning, W2v will return the weighted average of all three as the output. Now the question is,\n",
        "\n",
        " - Is it possible to segregate the three vectors to represent the words based in the context?\n",
        " - Is it possible to disambiguate the word vectors based on the context?\n",
        "\n",
        "Word2Vec is not capturing the contextual information. This is where BERT comes handy.\n",
        "\n",
        "**`! pip install gensim`**\n",
        "\n",
        "**`! pip install --upgrade gensim`**\n",
        "\n",
        "Run this in command promp (admin mode)"
      ]
    },
    {
      "cell_type": "code",
      "execution_count": 39,
      "id": "56e47518",
      "metadata": {
        "colab": {
          "base_uri": "https://localhost:8080/"
        },
        "id": "56e47518",
        "outputId": "7eb70aac-0238-4c41-9869-86b287eb93bb"
      },
      "outputs": [
        {
          "output_type": "stream",
          "name": "stdout",
          "text": [
            "Looking in indexes: https://pypi.org/simple, https://us-python.pkg.dev/colab-wheels/public/simple/\n",
            "Requirement already satisfied: gensim in /usr/local/lib/python3.7/dist-packages (3.6.0)\n",
            "Collecting gensim\n",
            "  Downloading gensim-4.2.0-cp37-cp37m-manylinux_2_12_x86_64.manylinux2010_x86_64.whl (24.1 MB)\n",
            "\u001b[K     |████████████████████████████████| 24.1 MB 2.2 MB/s \n",
            "\u001b[?25hRequirement already satisfied: smart-open>=1.8.1 in /usr/local/lib/python3.7/dist-packages (from gensim) (5.2.1)\n",
            "Requirement already satisfied: numpy>=1.17.0 in /usr/local/lib/python3.7/dist-packages (from gensim) (1.21.6)\n",
            "Requirement already satisfied: scipy>=0.18.1 in /usr/local/lib/python3.7/dist-packages (from gensim) (1.7.3)\n",
            "Installing collected packages: gensim\n",
            "  Attempting uninstall: gensim\n",
            "    Found existing installation: gensim 3.6.0\n",
            "    Uninstalling gensim-3.6.0:\n",
            "      Successfully uninstalled gensim-3.6.0\n",
            "Successfully installed gensim-4.2.0\n"
          ]
        }
      ],
      "source": [
        "! pip install --upgrade gensim\n"
      ]
    },
    {
      "cell_type": "code",
      "execution_count": 40,
      "id": "9a216eb0",
      "metadata": {
        "colab": {
          "base_uri": "https://localhost:8080/"
        },
        "id": "9a216eb0",
        "outputId": "f5e274ce-2e7c-4393-f0c2-a2bdbadc0a4b"
      },
      "outputs": [
        {
          "output_type": "stream",
          "name": "stdout",
          "text": [
            "4.2.0\n"
          ]
        }
      ],
      "source": [
        "import gensim\n",
        "\n",
        "print(gensim.__version__)"
      ]
    },
    {
      "cell_type": "code",
      "execution_count": 41,
      "id": "1ce2d7c1",
      "metadata": {
        "id": "1ce2d7c1"
      },
      "outputs": [],
      "source": [
        "from gensim.models import Word2Vec\n"
      ]
    },
    {
      "cell_type": "code",
      "execution_count": 42,
      "id": "a3942e0e",
      "metadata": {
        "colab": {
          "base_uri": "https://localhost:8080/",
          "height": 175
        },
        "id": "a3942e0e",
        "outputId": "e2629de1-ae84-4d9b-b84d-1865e803530f"
      },
      "outputs": [
        {
          "output_type": "execute_result",
          "data": {
            "text/plain": [
              "                             text clean_text_stem  text_length_stem  \\\n",
              "0      it Was the best oF Times $       best time                 2   \n",
              "1    It was The worst of 23times.      worst time                 2   \n",
              "2      IT 9 was tHe age Of wisdom      age wisdom                 2   \n",
              "3  it was thE %age of foolishness     age foolish                 2   \n",
              "\n",
              "  clean_text_lemma  text_length_lemma tokenised_sentences  \n",
              "0        best time                  2        [best, time]  \n",
              "1       worst time                  2       [worst, time]  \n",
              "2       age wisdom                  2       [age, wisdom]  \n",
              "3  age foolishness                  2      [age, foolish]  "
            ],
            "text/html": [
              "\n",
              "  <div id=\"df-72945c2d-ac4f-49f0-9605-03fbb4077e9e\">\n",
              "    <div class=\"colab-df-container\">\n",
              "      <div>\n",
              "<style scoped>\n",
              "    .dataframe tbody tr th:only-of-type {\n",
              "        vertical-align: middle;\n",
              "    }\n",
              "\n",
              "    .dataframe tbody tr th {\n",
              "        vertical-align: top;\n",
              "    }\n",
              "\n",
              "    .dataframe thead th {\n",
              "        text-align: right;\n",
              "    }\n",
              "</style>\n",
              "<table border=\"1\" class=\"dataframe\">\n",
              "  <thead>\n",
              "    <tr style=\"text-align: right;\">\n",
              "      <th></th>\n",
              "      <th>text</th>\n",
              "      <th>clean_text_stem</th>\n",
              "      <th>text_length_stem</th>\n",
              "      <th>clean_text_lemma</th>\n",
              "      <th>text_length_lemma</th>\n",
              "      <th>tokenised_sentences</th>\n",
              "    </tr>\n",
              "  </thead>\n",
              "  <tbody>\n",
              "    <tr>\n",
              "      <th>0</th>\n",
              "      <td>it Was the best oF Times $</td>\n",
              "      <td>best time</td>\n",
              "      <td>2</td>\n",
              "      <td>best time</td>\n",
              "      <td>2</td>\n",
              "      <td>[best, time]</td>\n",
              "    </tr>\n",
              "    <tr>\n",
              "      <th>1</th>\n",
              "      <td>It was The worst of 23times.</td>\n",
              "      <td>worst time</td>\n",
              "      <td>2</td>\n",
              "      <td>worst time</td>\n",
              "      <td>2</td>\n",
              "      <td>[worst, time]</td>\n",
              "    </tr>\n",
              "    <tr>\n",
              "      <th>2</th>\n",
              "      <td>IT 9 was tHe age Of wisdom</td>\n",
              "      <td>age wisdom</td>\n",
              "      <td>2</td>\n",
              "      <td>age wisdom</td>\n",
              "      <td>2</td>\n",
              "      <td>[age, wisdom]</td>\n",
              "    </tr>\n",
              "    <tr>\n",
              "      <th>3</th>\n",
              "      <td>it was thE %age of foolishness</td>\n",
              "      <td>age foolish</td>\n",
              "      <td>2</td>\n",
              "      <td>age foolishness</td>\n",
              "      <td>2</td>\n",
              "      <td>[age, foolish]</td>\n",
              "    </tr>\n",
              "  </tbody>\n",
              "</table>\n",
              "</div>\n",
              "      <button class=\"colab-df-convert\" onclick=\"convertToInteractive('df-72945c2d-ac4f-49f0-9605-03fbb4077e9e')\"\n",
              "              title=\"Convert this dataframe to an interactive table.\"\n",
              "              style=\"display:none;\">\n",
              "        \n",
              "  <svg xmlns=\"http://www.w3.org/2000/svg\" height=\"24px\"viewBox=\"0 0 24 24\"\n",
              "       width=\"24px\">\n",
              "    <path d=\"M0 0h24v24H0V0z\" fill=\"none\"/>\n",
              "    <path d=\"M18.56 5.44l.94 2.06.94-2.06 2.06-.94-2.06-.94-.94-2.06-.94 2.06-2.06.94zm-11 1L8.5 8.5l.94-2.06 2.06-.94-2.06-.94L8.5 2.5l-.94 2.06-2.06.94zm10 10l.94 2.06.94-2.06 2.06-.94-2.06-.94-.94-2.06-.94 2.06-2.06.94z\"/><path d=\"M17.41 7.96l-1.37-1.37c-.4-.4-.92-.59-1.43-.59-.52 0-1.04.2-1.43.59L10.3 9.45l-7.72 7.72c-.78.78-.78 2.05 0 2.83L4 21.41c.39.39.9.59 1.41.59.51 0 1.02-.2 1.41-.59l7.78-7.78 2.81-2.81c.8-.78.8-2.07 0-2.86zM5.41 20L4 18.59l7.72-7.72 1.47 1.35L5.41 20z\"/>\n",
              "  </svg>\n",
              "      </button>\n",
              "      \n",
              "  <style>\n",
              "    .colab-df-container {\n",
              "      display:flex;\n",
              "      flex-wrap:wrap;\n",
              "      gap: 12px;\n",
              "    }\n",
              "\n",
              "    .colab-df-convert {\n",
              "      background-color: #E8F0FE;\n",
              "      border: none;\n",
              "      border-radius: 50%;\n",
              "      cursor: pointer;\n",
              "      display: none;\n",
              "      fill: #1967D2;\n",
              "      height: 32px;\n",
              "      padding: 0 0 0 0;\n",
              "      width: 32px;\n",
              "    }\n",
              "\n",
              "    .colab-df-convert:hover {\n",
              "      background-color: #E2EBFA;\n",
              "      box-shadow: 0px 1px 2px rgba(60, 64, 67, 0.3), 0px 1px 3px 1px rgba(60, 64, 67, 0.15);\n",
              "      fill: #174EA6;\n",
              "    }\n",
              "\n",
              "    [theme=dark] .colab-df-convert {\n",
              "      background-color: #3B4455;\n",
              "      fill: #D2E3FC;\n",
              "    }\n",
              "\n",
              "    [theme=dark] .colab-df-convert:hover {\n",
              "      background-color: #434B5C;\n",
              "      box-shadow: 0px 1px 3px 1px rgba(0, 0, 0, 0.15);\n",
              "      filter: drop-shadow(0px 1px 2px rgba(0, 0, 0, 0.3));\n",
              "      fill: #FFFFFF;\n",
              "    }\n",
              "  </style>\n",
              "\n",
              "      <script>\n",
              "        const buttonEl =\n",
              "          document.querySelector('#df-72945c2d-ac4f-49f0-9605-03fbb4077e9e button.colab-df-convert');\n",
              "        buttonEl.style.display =\n",
              "          google.colab.kernel.accessAllowed ? 'block' : 'none';\n",
              "\n",
              "        async function convertToInteractive(key) {\n",
              "          const element = document.querySelector('#df-72945c2d-ac4f-49f0-9605-03fbb4077e9e');\n",
              "          const dataTable =\n",
              "            await google.colab.kernel.invokeFunction('convertToInteractive',\n",
              "                                                     [key], {});\n",
              "          if (!dataTable) return;\n",
              "\n",
              "          const docLinkHtml = 'Like what you see? Visit the ' +\n",
              "            '<a target=\"_blank\" href=https://colab.research.google.com/notebooks/data_table.ipynb>data table notebook</a>'\n",
              "            + ' to learn more about interactive tables.';\n",
              "          element.innerHTML = '';\n",
              "          dataTable['output_type'] = 'display_data';\n",
              "          await google.colab.output.renderOutput(dataTable, element);\n",
              "          const docLink = document.createElement('div');\n",
              "          docLink.innerHTML = docLinkHtml;\n",
              "          element.appendChild(docLink);\n",
              "        }\n",
              "      </script>\n",
              "    </div>\n",
              "  </div>\n",
              "  "
            ]
          },
          "metadata": {},
          "execution_count": 42
        }
      ],
      "source": [
        "df['tokenised_sentences'] = df.clean_text_stem.apply(lambda sent : sent.split())\n",
        "\n",
        "df.head()"
      ]
    },
    {
      "cell_type": "code",
      "execution_count": 43,
      "id": "706f8346",
      "metadata": {
        "colab": {
          "base_uri": "https://localhost:8080/"
        },
        "id": "706f8346",
        "outputId": "932de78d-f3b8-424c-d67d-8daa2f3a2ce8"
      },
      "outputs": [
        {
          "output_type": "execute_result",
          "data": {
            "text/plain": [
              "[['best', 'time'], ['worst', 'time'], ['age', 'wisdom'], ['age', 'foolish']]"
            ]
          },
          "metadata": {},
          "execution_count": 43
        }
      ],
      "source": [
        "list(df.tokenised_sentences)\n"
      ]
    },
    {
      "cell_type": "code",
      "execution_count": 44,
      "id": "b5618a45",
      "metadata": {
        "id": "b5618a45"
      },
      "outputs": [],
      "source": [
        "# train model\n",
        "\n",
        "model = Word2Vec(list(df.tokenised_sentences), vector_size=100, min_count=1)"
      ]
    },
    {
      "cell_type": "code",
      "execution_count": 45,
      "id": "84c5ef05",
      "metadata": {
        "colab": {
          "base_uri": "https://localhost:8080/"
        },
        "id": "84c5ef05",
        "outputId": "26c520ec-a138-4863-b1e8-de96ba195a12"
      },
      "outputs": [
        {
          "output_type": "stream",
          "name": "stdout",
          "text": [
            "Word2Vec<vocab=6, vector_size=100, alpha=0.025>\n"
          ]
        }
      ],
      "source": [
        "print(model)"
      ]
    },
    {
      "cell_type": "code",
      "execution_count": 46,
      "id": "94dbb3d8",
      "metadata": {
        "colab": {
          "base_uri": "https://localhost:8080/"
        },
        "id": "94dbb3d8",
        "outputId": "d659038f-be77-480d-d6aa-5085e4561968"
      },
      "outputs": [
        {
          "output_type": "execute_result",
          "data": {
            "text/plain": [
              "4"
            ]
          },
          "metadata": {},
          "execution_count": 46
        }
      ],
      "source": [
        "# Total Documents\n",
        "model.corpus_count"
      ]
    },
    {
      "cell_type": "code",
      "execution_count": 47,
      "id": "46284616",
      "metadata": {
        "colab": {
          "base_uri": "https://localhost:8080/"
        },
        "id": "46284616",
        "outputId": "270a3e23-8754-4599-cf1c-b9293a1ca59d"
      },
      "outputs": [
        {
          "output_type": "stream",
          "name": "stdout",
          "text": [
            "{'age': 0, 'time': 1, 'foolish': 2, 'wisdom': 3, 'worst': 4, 'best': 5}\n",
            "['age', 'time', 'foolish', 'wisdom', 'worst', 'best']\n"
          ]
        }
      ],
      "source": [
        "# Looking at the vocabulary\n",
        "\n",
        "print(model.wv.key_to_index)\n",
        "\n",
        "print(model.wv.index_to_key)"
      ]
    },
    {
      "cell_type": "code",
      "execution_count": 48,
      "id": "e6213584",
      "metadata": {
        "colab": {
          "base_uri": "https://localhost:8080/"
        },
        "id": "e6213584",
        "outputId": "288d2712-c99f-49fd-d72f-162294dd101d"
      },
      "outputs": [
        {
          "output_type": "stream",
          "name": "stdout",
          "text": [
            "[ 9.4563962e-05  3.0773187e-03 -6.8126465e-03 -1.3754654e-03\n",
            "  7.6685809e-03  7.3464084e-03 -3.6732983e-03  2.6427007e-03\n",
            " -8.3171297e-03  6.2054847e-03 -4.6373224e-03 -3.1641079e-03\n",
            "  9.3113566e-03  8.7338447e-04  7.4907015e-03 -6.0740639e-03\n",
            "  5.1605059e-03  9.9228211e-03 -8.4573915e-03 -5.1356913e-03\n",
            " -7.0648384e-03 -4.8626517e-03 -3.7785650e-03 -8.5362010e-03\n",
            "  7.9556061e-03 -4.8439382e-03  8.4236125e-03  5.2625705e-03\n",
            " -6.5500261e-03  3.9578700e-03  5.4701497e-03 -7.4265362e-03\n",
            " -7.4057197e-03 -2.4752307e-03 -8.6257271e-03 -1.5815735e-03\n",
            " -4.0343284e-04  3.2996845e-03  1.4418793e-03 -8.8142155e-04\n",
            " -5.5940580e-03  1.7303658e-03 -8.9737179e-04  6.7936899e-03\n",
            "  3.9735888e-03  4.5294715e-03  1.4343048e-03 -2.6998566e-03\n",
            " -4.3668128e-03 -1.0320758e-03  1.4370275e-03 -2.6460099e-03\n",
            " -7.0737838e-03 -7.8053069e-03 -9.1217877e-03 -5.9351707e-03\n",
            " -1.8474245e-03 -4.3238713e-03 -6.4606713e-03 -3.7173224e-03\n",
            "  4.2891572e-03 -3.7390448e-03  8.3781742e-03  1.5339922e-03\n",
            " -7.2423196e-03  9.4337985e-03  7.6312111e-03  5.4932809e-03\n",
            " -6.8488456e-03  5.8226776e-03  4.0090918e-03  5.1853680e-03\n",
            "  4.2559002e-03  1.9397545e-03 -3.1701636e-03  8.3538434e-03\n",
            "  9.6121784e-03  3.7926030e-03 -2.8369951e-03  7.1263312e-06\n",
            "  1.2188172e-03 -8.4583256e-03 -8.2239462e-03 -2.3101569e-04\n",
            "  1.2372875e-03 -5.7433820e-03 -4.7252751e-03 -7.3460746e-03\n",
            "  8.3286138e-03  1.2129784e-04 -4.5093987e-03  5.7017040e-03\n",
            "  9.1800140e-03 -4.0998720e-03  7.9646800e-03  5.3754328e-03\n",
            "  5.8791232e-03  5.1259040e-04  8.2130842e-03 -7.0190406e-03]\n",
            "(100,)\n"
          ]
        }
      ],
      "source": [
        "# access the 100 dimensional vector for one of the words\n",
        "\n",
        "print(model.wv.__getitem__('foolish'))\n",
        "\n",
        "print(model.wv.__getitem__('foolish').shape)"
      ]
    },
    {
      "cell_type": "code",
      "execution_count": 49,
      "id": "0dd08155",
      "metadata": {
        "colab": {
          "base_uri": "https://localhost:8080/"
        },
        "id": "0dd08155",
        "outputId": "90f58334-840c-4eb3-9a0c-a340129aa133"
      },
      "outputs": [
        {
          "output_type": "stream",
          "name": "stdout",
          "text": [
            "[[-5.3622725e-04  2.3643016e-04  5.1033497e-03  9.0092728e-03\n",
            "  -9.3029495e-03 -7.1168090e-03  6.4588715e-03  8.9729885e-03\n",
            "  -5.0154282e-03 -3.7633730e-03  7.3805046e-03 -1.5334726e-03\n",
            "  -4.5366143e-03  6.5540504e-03 -4.8601604e-03 -1.8160177e-03\n",
            "   2.8765798e-03  9.9187379e-04 -8.2852151e-03 -9.4488189e-03\n",
            "   7.3117660e-03  5.0702621e-03  6.7576934e-03  7.6286553e-04\n",
            "   6.3508893e-03 -3.4053659e-03 -9.4640255e-04  5.7685734e-03\n",
            "  -7.5216386e-03 -3.9361049e-03 -7.5115822e-03 -9.3004224e-04\n",
            "   9.5381187e-03 -7.3191668e-03 -2.3337698e-03 -1.9377422e-03\n",
            "   8.0774352e-03 -5.9308959e-03  4.5161247e-05 -4.7537349e-03\n",
            "  -9.6035507e-03  5.0072931e-03 -8.7595871e-03 -4.3918253e-03\n",
            "  -3.5099984e-05 -2.9618264e-04 -7.6612402e-03  9.6147414e-03\n",
            "   4.9820566e-03  9.2331432e-03 -8.1579182e-03  4.4957972e-03\n",
            "  -4.1370774e-03  8.2453492e-04  8.4986184e-03 -4.4621779e-03\n",
            "   4.5175003e-03 -6.7869616e-03 -3.5484887e-03  9.3985079e-03\n",
            "  -1.5776539e-03  3.2137157e-04 -4.1406299e-03 -7.6826881e-03\n",
            "  -1.5080094e-03  2.4697948e-03 -8.8802812e-04  5.5336617e-03\n",
            "  -2.7429771e-03  2.2600652e-03  5.4557943e-03  8.3459523e-03\n",
            "  -1.4537406e-03 -9.2081428e-03  4.3705511e-03  5.7178497e-04\n",
            "   7.4419067e-03 -8.1328390e-04 -2.6384138e-03 -8.7530091e-03\n",
            "  -8.5655687e-04  2.8265619e-03  5.4014279e-03  7.0526553e-03\n",
            "  -5.7031228e-03  1.8588186e-03  6.0888622e-03 -4.7980524e-03\n",
            "  -3.1072616e-03  6.7976285e-03  1.6314745e-03  1.8991709e-04\n",
            "   3.4736372e-03  2.1777629e-04  9.6188262e-03  5.0606038e-03\n",
            "  -8.9173913e-03 -7.0415614e-03  9.0145587e-04  6.3925339e-03]\n",
            " [-8.6196875e-03  3.6657380e-03  5.1898835e-03  5.7419371e-03\n",
            "   7.4669169e-03 -6.1676763e-03  1.1056137e-03  6.0472824e-03\n",
            "  -2.8400517e-03 -6.1735227e-03 -4.1022300e-04 -8.3689503e-03\n",
            "  -5.6000138e-03  7.1045374e-03  3.3525396e-03  7.2256685e-03\n",
            "   6.8002464e-03  7.5307419e-03 -3.7891555e-03 -5.6180713e-04\n",
            "   2.3483753e-03 -4.5190332e-03  8.3887316e-03 -9.8581649e-03\n",
            "   6.7646410e-03  2.9144168e-03 -4.9328329e-03  4.3981862e-03\n",
            "  -1.7395759e-03  6.7113829e-03  9.9648498e-03 -4.3624449e-03\n",
            "  -5.9933902e-04 -5.6956387e-03  3.8508223e-03  2.7866268e-03\n",
            "   6.8910765e-03  6.1010956e-03  9.5384959e-03  9.2734173e-03\n",
            "   7.8980681e-03 -6.9895051e-03 -9.1558648e-03 -3.5575390e-04\n",
            "  -3.0998420e-03  7.8943158e-03  5.9385728e-03 -1.5456629e-03\n",
            "   1.5109634e-03  1.7900396e-03  7.8175711e-03 -9.5101884e-03\n",
            "  -2.0553112e-04  3.4691954e-03 -9.3897345e-04  8.3817719e-03\n",
            "   9.0107825e-03  6.5365052e-03 -7.1162224e-04  7.7104042e-03\n",
            "  -8.5343365e-03  3.2071066e-03 -4.6379971e-03 -5.0889566e-03\n",
            "   3.5896183e-03  5.3703380e-03  7.7695129e-03 -5.7665063e-03\n",
            "   7.4333595e-03  6.6254949e-03 -3.7098003e-03 -8.7456414e-03\n",
            "   5.4374672e-03  6.5097548e-03 -7.8755140e-04 -6.7098569e-03\n",
            "  -7.0859264e-03 -2.4970602e-03  5.1432536e-03 -3.6652375e-03\n",
            "  -9.3700597e-03  3.8267397e-03  4.8844791e-03 -6.4285635e-03\n",
            "   1.2085581e-03 -2.0748782e-03  2.4402141e-05 -9.8835090e-03\n",
            "   2.6920033e-03 -4.7501065e-03  1.0876465e-03 -1.5762257e-03\n",
            "   2.1966719e-03 -7.8815771e-03 -2.7171851e-03  2.6631975e-03\n",
            "   5.3466819e-03 -2.3915148e-03 -9.5100952e-03  4.5058774e-03]\n",
            " [ 9.4563962e-05  3.0773187e-03 -6.8126465e-03 -1.3754654e-03\n",
            "   7.6685809e-03  7.3464084e-03 -3.6732983e-03  2.6427007e-03\n",
            "  -8.3171297e-03  6.2054847e-03 -4.6373224e-03 -3.1641079e-03\n",
            "   9.3113566e-03  8.7338447e-04  7.4907015e-03 -6.0740639e-03\n",
            "   5.1605059e-03  9.9228211e-03 -8.4573915e-03 -5.1356913e-03\n",
            "  -7.0648384e-03 -4.8626517e-03 -3.7785650e-03 -8.5362010e-03\n",
            "   7.9556061e-03 -4.8439382e-03  8.4236125e-03  5.2625705e-03\n",
            "  -6.5500261e-03  3.9578700e-03  5.4701497e-03 -7.4265362e-03\n",
            "  -7.4057197e-03 -2.4752307e-03 -8.6257271e-03 -1.5815735e-03\n",
            "  -4.0343284e-04  3.2996845e-03  1.4418793e-03 -8.8142155e-04\n",
            "  -5.5940580e-03  1.7303658e-03 -8.9737179e-04  6.7936899e-03\n",
            "   3.9735888e-03  4.5294715e-03  1.4343048e-03 -2.6998566e-03\n",
            "  -4.3668128e-03 -1.0320758e-03  1.4370275e-03 -2.6460099e-03\n",
            "  -7.0737838e-03 -7.8053069e-03 -9.1217877e-03 -5.9351707e-03\n",
            "  -1.8474245e-03 -4.3238713e-03 -6.4606713e-03 -3.7173224e-03\n",
            "   4.2891572e-03 -3.7390448e-03  8.3781742e-03  1.5339922e-03\n",
            "  -7.2423196e-03  9.4337985e-03  7.6312111e-03  5.4932809e-03\n",
            "  -6.8488456e-03  5.8226776e-03  4.0090918e-03  5.1853680e-03\n",
            "   4.2559002e-03  1.9397545e-03 -3.1701636e-03  8.3538434e-03\n",
            "   9.6121784e-03  3.7926030e-03 -2.8369951e-03  7.1263312e-06\n",
            "   1.2188172e-03 -8.4583256e-03 -8.2239462e-03 -2.3101569e-04\n",
            "   1.2372875e-03 -5.7433820e-03 -4.7252751e-03 -7.3460746e-03\n",
            "   8.3286138e-03  1.2129784e-04 -4.5093987e-03  5.7017040e-03\n",
            "   9.1800140e-03 -4.0998720e-03  7.9646800e-03  5.3754328e-03\n",
            "   5.8791232e-03  5.1259040e-04  8.2130842e-03 -7.0190406e-03]\n",
            " [-8.2426788e-03  9.2993546e-03 -1.9766092e-04 -1.9672776e-03\n",
            "   4.6036290e-03 -4.0953159e-03  2.7431131e-03  6.9399667e-03\n",
            "   6.0654259e-03 -7.5107957e-03  9.3823504e-03  4.6718074e-03\n",
            "   3.9661191e-03 -6.2435055e-03  8.4599778e-03 -2.1501661e-03\n",
            "   8.8251876e-03 -5.3620026e-03 -8.1294207e-03  6.8245577e-03\n",
            "   1.6711927e-03 -2.1985101e-03  9.5135998e-03  9.4938539e-03\n",
            "  -9.7740479e-03  2.5052286e-03  6.1566923e-03  3.8724565e-03\n",
            "   2.0227861e-03  4.3050051e-04  6.7363022e-04 -3.8206363e-03\n",
            "  -7.1402504e-03 -2.0888734e-03  3.9238976e-03  8.8186832e-03\n",
            "   9.2591504e-03 -5.9759379e-03 -9.4026709e-03  9.7643761e-03\n",
            "   3.4297847e-03  5.1661157e-03  6.2823440e-03 -2.8042626e-03\n",
            "   7.3227026e-03  2.8302716e-03  2.8710032e-03 -2.3803711e-03\n",
            "  -3.1282497e-03 -2.3701428e-03  4.2764354e-03  7.6057913e-05\n",
            "  -9.5842788e-03 -9.6655441e-03 -6.1481954e-03 -1.2856961e-04\n",
            "   1.9974159e-03  9.4319675e-03  5.5843499e-03 -4.2906976e-03\n",
            "   2.7831554e-04  4.9643586e-03  7.6983096e-03 -1.1442233e-03\n",
            "   4.3234206e-03 -5.8143805e-03 -8.0419064e-04  8.1000496e-03\n",
            "  -2.3600650e-03 -9.6634552e-03  5.7792594e-03 -3.9298222e-03\n",
            "  -1.2228728e-03  9.9805165e-03 -2.2563506e-03 -4.7570658e-03\n",
            "  -5.3293873e-03  6.9808890e-03 -5.7088733e-03  2.1136617e-03\n",
            "  -5.2556610e-03  6.1207130e-03  4.3573068e-03  2.6063537e-03\n",
            "  -1.4910841e-03 -2.7460647e-03  8.9929365e-03  5.2157734e-03\n",
            "  -2.1625208e-03 -9.4703101e-03 -7.4260519e-03 -1.0637427e-03\n",
            "  -7.9494715e-04 -2.5629092e-03  9.6827196e-03 -4.5852186e-04\n",
            "   5.8737611e-03 -7.4475883e-03 -2.5060750e-03 -5.5498648e-03]\n",
            " [-7.1390150e-03  1.2410306e-03 -7.1767163e-03 -2.2446180e-03\n",
            "   3.7193035e-03  5.8331229e-03  1.1981821e-03  2.1027303e-03\n",
            "  -4.1103913e-03  7.2253323e-03 -6.3070417e-03  4.6472144e-03\n",
            "  -8.2199741e-03  2.0364665e-03 -4.9770521e-03 -4.2476892e-03\n",
            "  -3.1089855e-03  5.6552077e-03  5.7983994e-03 -4.9746488e-03\n",
            "   7.7332975e-04 -8.4957788e-03  7.8098057e-03  9.2572905e-03\n",
            "  -2.7423287e-03  8.0022332e-04  7.4665068e-04  5.4778839e-03\n",
            "  -8.6060790e-03  5.8445451e-04  6.8694209e-03  2.2315932e-03\n",
            "   1.1246753e-03 -9.3221571e-03  8.4823659e-03 -6.2641287e-03\n",
            "  -2.9923748e-03  3.4937859e-03 -7.7262876e-04  1.4112901e-03\n",
            "   1.7819905e-03 -6.8288995e-03 -9.7248126e-03  9.0405848e-03\n",
            "   6.1980532e-03 -6.9129276e-03  3.4034825e-03  2.0606279e-04\n",
            "   4.7537447e-03 -7.1199443e-03  4.0269541e-03  4.3474343e-03\n",
            "   9.9573685e-03 -4.4737412e-03 -1.3892651e-03 -7.3173214e-03\n",
            "  -9.6978303e-03 -9.0802573e-03 -1.0227561e-03 -6.5032910e-03\n",
            "   4.8497273e-03 -6.1640264e-03  2.5191857e-03  7.3944090e-04\n",
            "  -3.3921553e-03 -9.7922329e-04  9.9791242e-03  9.1458866e-03\n",
            "  -4.4618296e-03  9.0830252e-03 -5.6417631e-03  5.9309220e-03\n",
            "  -3.0972194e-03  3.4317516e-03  3.0172253e-03  6.9004609e-03\n",
            "  -2.3738837e-03  8.7750368e-03  7.5894282e-03 -9.5476462e-03\n",
            "  -8.0082109e-03 -7.6378966e-03  2.9232574e-03 -2.7947235e-03\n",
            "  -6.9295214e-03 -8.1282640e-03  8.3091781e-03  1.9904876e-03\n",
            "  -9.3280170e-03 -4.7927164e-03  3.1367373e-03 -4.7132061e-03\n",
            "   5.2808430e-03 -4.2334413e-03  2.6417947e-03 -8.0456873e-03\n",
            "   6.2098862e-03  4.8188879e-03  7.8719138e-04  3.0134462e-03]\n",
            " [-8.7274835e-03  2.1301603e-03 -8.7354420e-04 -9.3190884e-03\n",
            "  -9.4281435e-03 -1.4107180e-03  4.4324086e-03  3.7040710e-03\n",
            "  -6.4986944e-03 -6.8730689e-03 -4.9994136e-03 -2.2868442e-03\n",
            "  -7.2502876e-03 -9.6033188e-03 -2.7436304e-03 -8.3628418e-03\n",
            "  -6.0388758e-03 -5.6709289e-03 -2.3441387e-03 -1.7069983e-03\n",
            "  -8.9569995e-03 -7.3519943e-04  8.1525063e-03  7.6904297e-03\n",
            "  -7.2061159e-03 -3.6668323e-03  3.1185509e-03 -9.5707225e-03\n",
            "   1.4764380e-03  6.5244650e-03  5.7464195e-03 -8.7630628e-03\n",
            "  -4.5171450e-03 -8.1401607e-03  4.5955181e-05  9.2636319e-03\n",
            "   5.9733056e-03  5.0673080e-03  5.0610616e-03 -3.2429171e-03\n",
            "   9.5521836e-03 -7.3564244e-03 -7.2703888e-03 -2.2653891e-03\n",
            "  -7.7856064e-04 -3.2161046e-03 -5.9258699e-04  7.4888230e-03\n",
            "  -6.9751980e-04 -1.6249418e-03  2.7443981e-03 -8.3591007e-03\n",
            "   7.8558037e-03  8.5361032e-03 -9.5840879e-03  2.4462652e-03\n",
            "   9.9049713e-03 -7.6658037e-03 -6.9669201e-03 -7.7365185e-03\n",
            "   8.3959224e-03 -6.8133592e-04  9.1444086e-03 -8.1582209e-03\n",
            "   3.7430834e-03  2.6350426e-03  7.4271200e-04  2.3276759e-03\n",
            "  -7.4690939e-03 -9.3583753e-03  2.3545765e-03  6.1484552e-03\n",
            "   7.9856869e-03  5.7358933e-03 -7.7733753e-04  8.3061643e-03\n",
            "  -9.3363142e-03  3.4061312e-03  2.6675223e-04  3.8572431e-03\n",
            "   7.3857834e-03 -6.7251683e-03  5.5844807e-03 -9.5222257e-03\n",
            "  -8.0446003e-04 -8.6887386e-03 -5.0986744e-03  9.2892265e-03\n",
            "  -1.8582630e-03  2.9144264e-03  9.0712784e-03  8.9381309e-03\n",
            "  -8.2084350e-03 -3.0123137e-03  9.8866057e-03  5.1044296e-03\n",
            "  -1.5880871e-03 -8.6920215e-03  2.9615164e-03 -6.6758990e-03]]\n"
          ]
        }
      ],
      "source": [
        "# Access the 100D vectors for all 6 words\n",
        "\n",
        "print(model.wv.__getitem__(model.wv.index_to_key))"
      ]
    },
    {
      "cell_type": "code",
      "execution_count": 50,
      "id": "1a9378c7",
      "metadata": {
        "colab": {
          "base_uri": "https://localhost:8080/"
        },
        "id": "1a9378c7",
        "outputId": "c72ee7b0-22f6-4692-e48b-5c3710199a20"
      },
      "outputs": [
        {
          "output_type": "stream",
          "name": "stdout",
          "text": [
            "(6, 100)\n"
          ]
        }
      ],
      "source": [
        "print(model.wv.__getitem__(model.wv.index_to_key).shape)\n"
      ]
    },
    {
      "cell_type": "code",
      "execution_count": 51,
      "id": "616ce4e7",
      "metadata": {
        "id": "616ce4e7"
      },
      "outputs": [],
      "source": [
        "# save model\n",
        "# model.save('model/first_word_vectors.bin')\n",
        "\n",
        "# # load model\n",
        "# new_model = Word2Vec.load('model/first_word_vectors.bin')\n",
        "# print(new_model)"
      ]
    },
    {
      "cell_type": "code",
      "execution_count": 52,
      "id": "d3cad45b",
      "metadata": {
        "colab": {
          "base_uri": "https://localhost:8080/",
          "height": 265
        },
        "id": "d3cad45b",
        "outputId": "c8ac18ee-5843-4958-a614-6c72c95f97b8"
      },
      "outputs": [
        {
          "output_type": "display_data",
          "data": {
            "text/plain": [
              "<Figure size 432x288 with 1 Axes>"
            ],
            "image/png": "[encoded data removed]"
          },
          "metadata": {
            "needs_background": "light"
          }
        }
      ],
      "source": [
        "from sklearn.decomposition import PCA\n",
        "import matplotlib.pyplot as plt\n",
        "\n",
        "X = model.wv.__getitem__(model.wv.index_to_key)\n",
        "pca = PCA(n_components = 2)\n",
        "result = pca.fit_transform(X)\n",
        "\n",
        "# create a scatter plot of the projection\n",
        "plt.scatter(result[:, 0], result[:, 1])\n",
        "words = list(model.wv.index_to_key)\n",
        "for i, word in enumerate(words):\n",
        "    plt.annotate(word, xy=(result[i, 0], result[i, 1]))\n",
        "plt.show()"
      ]
    },
    {
      "cell_type": "code",
      "execution_count": 53,
      "id": "cae46dcf",
      "metadata": {
        "colab": {
          "base_uri": "https://localhost:8080/"
        },
        "id": "cae46dcf",
        "outputId": "0ef44257-6951-4ab7-b2d0-1425e8cec9e3"
      },
      "outputs": [
        {
          "output_type": "execute_result",
          "data": {
            "text/plain": [
              "0.13887985"
            ]
          },
          "metadata": {},
          "execution_count": 53
        }
      ],
      "source": [
        "model.wv.similarity('best', 'worst')\n"
      ]
    },
    {
      "cell_type": "code",
      "execution_count": 54,
      "id": "e9ea7d93",
      "metadata": {
        "colab": {
          "base_uri": "https://localhost:8080/"
        },
        "id": "e9ea7d93",
        "outputId": "e66dee2c-7d1e-4101-a4e8-0eb563ff6304"
      },
      "outputs": [
        {
          "output_type": "execute_result",
          "data": {
            "text/plain": [
              "[('worst', 0.17018882930278778),\n",
              " ('best', 0.06408979743719101),\n",
              " ('wisdom', -0.013514960184693336),\n",
              " ('time', -0.02367166243493557),\n",
              " ('age', -0.052346743643283844)]"
            ]
          },
          "metadata": {},
          "execution_count": 54
        }
      ],
      "source": [
        "model.wv.most_similar('foolish')\n"
      ]
    },
    {
      "cell_type": "code",
      "execution_count": 55,
      "id": "e50ecc2f",
      "metadata": {
        "colab": {
          "base_uri": "https://localhost:8080/",
          "height": 175
        },
        "id": "e50ecc2f",
        "outputId": "1774f532-d9c2-4d9d-8f8e-53c3f2508a3a"
      },
      "outputs": [
        {
          "output_type": "execute_result",
          "data": {
            "text/plain": [
              "                             text clean_text_stem  text_length_stem  \\\n",
              "0      it Was the best oF Times $       best time                 2   \n",
              "1    It was The worst of 23times.      worst time                 2   \n",
              "2      IT 9 was tHe age Of wisdom      age wisdom                 2   \n",
              "3  it was thE %age of foolishness     age foolish                 2   \n",
              "\n",
              "  clean_text_lemma  text_length_lemma tokenised_sentences  \n",
              "0        best time                  2        [best, time]  \n",
              "1       worst time                  2       [worst, time]  \n",
              "2       age wisdom                  2       [age, wisdom]  \n",
              "3  age foolishness                  2      [age, foolish]  "
            ],
            "text/html": [
              "\n",
              "  <div id=\"df-92820d1f-db51-41d0-b9e7-3106d55c6173\">\n",
              "    <div class=\"colab-df-container\">\n",
              "      <div>\n",
              "<style scoped>\n",
              "    .dataframe tbody tr th:only-of-type {\n",
              "        vertical-align: middle;\n",
              "    }\n",
              "\n",
              "    .dataframe tbody tr th {\n",
              "        vertical-align: top;\n",
              "    }\n",
              "\n",
              "    .dataframe thead th {\n",
              "        text-align: right;\n",
              "    }\n",
              "</style>\n",
              "<table border=\"1\" class=\"dataframe\">\n",
              "  <thead>\n",
              "    <tr style=\"text-align: right;\">\n",
              "      <th></th>\n",
              "      <th>text</th>\n",
              "      <th>clean_text_stem</th>\n",
              "      <th>text_length_stem</th>\n",
              "      <th>clean_text_lemma</th>\n",
              "      <th>text_length_lemma</th>\n",
              "      <th>tokenised_sentences</th>\n",
              "    </tr>\n",
              "  </thead>\n",
              "  <tbody>\n",
              "    <tr>\n",
              "      <th>0</th>\n",
              "      <td>it Was the best oF Times $</td>\n",
              "      <td>best time</td>\n",
              "      <td>2</td>\n",
              "      <td>best time</td>\n",
              "      <td>2</td>\n",
              "      <td>[best, time]</td>\n",
              "    </tr>\n",
              "    <tr>\n",
              "      <th>1</th>\n",
              "      <td>It was The worst of 23times.</td>\n",
              "      <td>worst time</td>\n",
              "      <td>2</td>\n",
              "      <td>worst time</td>\n",
              "      <td>2</td>\n",
              "      <td>[worst, time]</td>\n",
              "    </tr>\n",
              "    <tr>\n",
              "      <th>2</th>\n",
              "      <td>IT 9 was tHe age Of wisdom</td>\n",
              "      <td>age wisdom</td>\n",
              "      <td>2</td>\n",
              "      <td>age wisdom</td>\n",
              "      <td>2</td>\n",
              "      <td>[age, wisdom]</td>\n",
              "    </tr>\n",
              "    <tr>\n",
              "      <th>3</th>\n",
              "      <td>it was thE %age of foolishness</td>\n",
              "      <td>age foolish</td>\n",
              "      <td>2</td>\n",
              "      <td>age foolishness</td>\n",
              "      <td>2</td>\n",
              "      <td>[age, foolish]</td>\n",
              "    </tr>\n",
              "  </tbody>\n",
              "</table>\n",
              "</div>\n",
              "      <button class=\"colab-df-convert\" onclick=\"convertToInteractive('df-92820d1f-db51-41d0-b9e7-3106d55c6173')\"\n",
              "              title=\"Convert this dataframe to an interactive table.\"\n",
              "              style=\"display:none;\">\n",
              "        \n",
              "  <svg xmlns=\"http://www.w3.org/2000/svg\" height=\"24px\"viewBox=\"0 0 24 24\"\n",
              "       width=\"24px\">\n",
              "    <path d=\"M0 0h24v24H0V0z\" fill=\"none\"/>\n",
              "    <path d=\"M18.56 5.44l.94 2.06.94-2.06 2.06-.94-2.06-.94-.94-2.06-.94 2.06-2.06.94zm-11 1L8.5 8.5l.94-2.06 2.06-.94-2.06-.94L8.5 2.5l-.94 2.06-2.06.94zm10 10l.94 2.06.94-2.06 2.06-.94-2.06-.94-.94-2.06-.94 2.06-2.06.94z\"/><path d=\"M17.41 7.96l-1.37-1.37c-.4-.4-.92-.59-1.43-.59-.52 0-1.04.2-1.43.59L10.3 9.45l-7.72 7.72c-.78.78-.78 2.05 0 2.83L4 21.41c.39.39.9.59 1.41.59.51 0 1.02-.2 1.41-.59l7.78-7.78 2.81-2.81c.8-.78.8-2.07 0-2.86zM5.41 20L4 18.59l7.72-7.72 1.47 1.35L5.41 20z\"/>\n",
              "  </svg>\n",
              "      </button>\n",
              "      \n",
              "  <style>\n",
              "    .colab-df-container {\n",
              "      display:flex;\n",
              "      flex-wrap:wrap;\n",
              "      gap: 12px;\n",
              "    }\n",
              "\n",
              "    .colab-df-convert {\n",
              "      background-color: #E8F0FE;\n",
              "      border: none;\n",
              "      border-radius: 50%;\n",
              "      cursor: pointer;\n",
              "      display: none;\n",
              "      fill: #1967D2;\n",
              "      height: 32px;\n",
              "      padding: 0 0 0 0;\n",
              "      width: 32px;\n",
              "    }\n",
              "\n",
              "    .colab-df-convert:hover {\n",
              "      background-color: #E2EBFA;\n",
              "      box-shadow: 0px 1px 2px rgba(60, 64, 67, 0.3), 0px 1px 3px 1px rgba(60, 64, 67, 0.15);\n",
              "      fill: #174EA6;\n",
              "    }\n",
              "\n",
              "    [theme=dark] .colab-df-convert {\n",
              "      background-color: #3B4455;\n",
              "      fill: #D2E3FC;\n",
              "    }\n",
              "\n",
              "    [theme=dark] .colab-df-convert:hover {\n",
              "      background-color: #434B5C;\n",
              "      box-shadow: 0px 1px 3px 1px rgba(0, 0, 0, 0.15);\n",
              "      filter: drop-shadow(0px 1px 2px rgba(0, 0, 0, 0.3));\n",
              "      fill: #FFFFFF;\n",
              "    }\n",
              "  </style>\n",
              "\n",
              "      <script>\n",
              "        const buttonEl =\n",
              "          document.querySelector('#df-92820d1f-db51-41d0-b9e7-3106d55c6173 button.colab-df-convert');\n",
              "        buttonEl.style.display =\n",
              "          google.colab.kernel.accessAllowed ? 'block' : 'none';\n",
              "\n",
              "        async function convertToInteractive(key) {\n",
              "          const element = document.querySelector('#df-92820d1f-db51-41d0-b9e7-3106d55c6173');\n",
              "          const dataTable =\n",
              "            await google.colab.kernel.invokeFunction('convertToInteractive',\n",
              "                                                     [key], {});\n",
              "          if (!dataTable) return;\n",
              "\n",
              "          const docLinkHtml = 'Like what you see? Visit the ' +\n",
              "            '<a target=\"_blank\" href=https://colab.research.google.com/notebooks/data_table.ipynb>data table notebook</a>'\n",
              "            + ' to learn more about interactive tables.';\n",
              "          element.innerHTML = '';\n",
              "          dataTable['output_type'] = 'display_data';\n",
              "          await google.colab.output.renderOutput(dataTable, element);\n",
              "          const docLink = document.createElement('div');\n",
              "          docLink.innerHTML = docLinkHtml;\n",
              "          element.appendChild(docLink);\n",
              "        }\n",
              "      </script>\n",
              "    </div>\n",
              "  </div>\n",
              "  "
            ]
          },
          "metadata": {},
          "execution_count": 55
        }
      ],
      "source": [
        "df.head()"
      ]
    },
    {
      "cell_type": "markdown",
      "source": [
        "## ***Sentence Embedding (Document Vectors)***"
      ],
      "metadata": {
        "id": "tLsACXZf2wV-"
      },
      "id": "tLsACXZf2wV-"
    },
    {
      "cell_type": "code",
      "execution_count": 56,
      "id": "1d7f6820",
      "metadata": {
        "colab": {
          "base_uri": "https://localhost:8080/"
        },
        "id": "1d7f6820",
        "outputId": "ac23d201-11de-4014-8cce-371fc6a12ae1"
      },
      "outputs": [
        {
          "output_type": "execute_result",
          "data": {
            "text/plain": [
              "['best', 'time']"
            ]
          },
          "metadata": {},
          "execution_count": 56
        }
      ],
      "source": [
        "# Remove out-of-vocabulary words\n",
        "\n",
        "sentence = ['best', 'besties', 'time', 'timer']\n",
        "\n",
        "vocab_tokens = [word for word in sentence if word in model.wv.index_to_key]\n",
        "\n",
        "vocab_tokens"
      ]
    },
    {
      "cell_type": "code",
      "source": [
        "# Create document vectors by averaging word vectors\n",
        "\n",
        "np.mean(model.wv.__getitem__(vocab_tokens), axis=0)"
      ],
      "metadata": {
        "colab": {
          "base_uri": "https://localhost:8080/"
        },
        "id": "9kR8fzS-3ymF",
        "outputId": "09398658-44ac-4e71-e21d-d03461fb1b81"
      },
      "id": "9kR8fzS-3ymF",
      "execution_count": 57,
      "outputs": [
        {
          "output_type": "execute_result",
          "data": {
            "text/plain": [
              "array([-8.67358595e-03,  2.89794919e-03,  2.15816963e-03, -1.78857567e-03,\n",
              "       -9.80613288e-04, -3.78919719e-03,  2.76901107e-03,  4.87567671e-03,\n",
              "       -4.66937292e-03, -6.52329577e-03, -2.70481827e-03, -5.32789715e-03,\n",
              "       -6.42515067e-03, -1.24939065e-03,  3.04454588e-04, -5.68586634e-04,\n",
              "        3.80685320e-04,  9.29906499e-04, -3.06664710e-03, -1.13440270e-03,\n",
              "       -3.30431201e-03, -2.62711640e-03,  8.27061944e-03, -1.08386762e-03,\n",
              "       -2.20737420e-04, -3.76207754e-04, -9.07141017e-04, -2.58626812e-03,\n",
              "       -1.31568930e-04,  6.61792420e-03,  7.85563514e-03, -6.56275358e-03,\n",
              "       -2.55824206e-03, -6.91789947e-03,  1.94838876e-03,  6.02512946e-03,\n",
              "        6.43219100e-03,  5.58420178e-03,  7.29977898e-03,  3.01524997e-03,\n",
              "        8.72512534e-03, -7.17296451e-03, -8.21312703e-03, -1.31057145e-03,\n",
              "       -1.93920126e-03,  2.33910559e-03,  2.67299288e-03,  2.97158002e-03,\n",
              "        4.06721811e-04,  8.25488823e-05,  5.28098457e-03, -8.93464498e-03,\n",
              "        3.82513623e-03,  6.00264920e-03, -5.26153063e-03,  5.41401841e-03,\n",
              "        9.45787691e-03, -5.64649235e-04, -3.83927114e-03, -1.30571425e-05,\n",
              "       -6.92070462e-05,  1.26288529e-03,  2.25320575e-03, -6.62358850e-03,\n",
              "        3.66635085e-03,  4.00269032e-03,  4.25611250e-03, -1.71941519e-03,\n",
              "       -1.78671908e-05, -1.36644021e-03, -6.77611912e-04, -1.29859312e-03,\n",
              "        6.71157707e-03,  6.12282380e-03, -7.82444491e-04,  7.98153691e-04,\n",
              "       -8.21112003e-03,  4.54535475e-04,  2.70500290e-03,  9.60028265e-05,\n",
              "       -9.92138172e-04, -1.44921429e-03,  5.23447990e-03, -7.97539484e-03,\n",
              "        2.02049036e-04, -5.38180862e-03, -2.53713620e-03, -2.97141261e-04,\n",
              "        4.16870113e-04, -9.17840051e-04,  5.07946219e-03,  3.68095259e-03,\n",
              "       -3.00588156e-03, -5.44694532e-03,  3.58471042e-03,  3.88381351e-03,\n",
              "        1.87929743e-03, -5.54176793e-03, -3.27428943e-03, -1.08501082e-03],\n",
              "      dtype=float32)"
            ]
          },
          "metadata": {},
          "execution_count": 57
        }
      ]
    },
    {
      "cell_type": "code",
      "source": [
        "np.mean(model.wv.__getitem__(vocab_tokens), axis=0).shape\n"
      ],
      "metadata": {
        "colab": {
          "base_uri": "https://localhost:8080/"
        },
        "id": "xlhNab3f4Mbn",
        "outputId": "6d086eb5-a608-4b6d-9836-6f07b797c608"
      },
      "id": "xlhNab3f4Mbn",
      "execution_count": 58,
      "outputs": [
        {
          "output_type": "execute_result",
          "data": {
            "text/plain": [
              "(100,)"
            ]
          },
          "metadata": {},
          "execution_count": 58
        }
      ]
    },
    {
      "cell_type": "code",
      "source": [
        "def document_vector(doc, keyed_vectors):\n",
        "    \"\"\"Remove out-of-vocabulary words. Create document vectors by averaging word vectors.\"\"\"\n",
        "    vocab_tokens = [word for word in doc if word in keyed_vectors.index_to_key]\n",
        "    return np.mean(keyed_vectors.__getitem__(vocab_tokens), axis=0)"
      ],
      "metadata": {
        "id": "Tzx8G9NJ4XHg"
      },
      "id": "Tzx8G9NJ4XHg",
      "execution_count": 59,
      "outputs": []
    },
    {
      "cell_type": "code",
      "source": [
        "df['doc_vector_w2v'] = df.tokenised_sentences.apply(lambda x : document_vector(x, model.wv))\n",
        "\n",
        "df.head()"
      ],
      "metadata": {
        "colab": {
          "base_uri": "https://localhost:8080/",
          "height": 219
        },
        "id": "z4urcuPs4boH",
        "outputId": "2644a55b-9dae-464d-89f5-cb533a5ea29b"
      },
      "id": "z4urcuPs4boH",
      "execution_count": 60,
      "outputs": [
        {
          "output_type": "execute_result",
          "data": {
            "text/plain": [
              "                             text clean_text_stem  text_length_stem  \\\n",
              "0      it Was the best oF Times $       best time                 2   \n",
              "1    It was The worst of 23times.      worst time                 2   \n",
              "2      IT 9 was tHe age Of wisdom      age wisdom                 2   \n",
              "3  it was thE %age of foolishness     age foolish                 2   \n",
              "\n",
              "  clean_text_lemma  text_length_lemma tokenised_sentences  \\\n",
              "0        best time                  2        [best, time]   \n",
              "1       worst time                  2       [worst, time]   \n",
              "2       age wisdom                  2       [age, wisdom]   \n",
              "3  age foolishness                  2      [age, foolish]   \n",
              "\n",
              "                                      doc_vector_w2v  \n",
              "0  [-0.008673586, 0.0028979492, 0.0021581696, -0....  \n",
              "1  [-0.007879351, 0.0024533845, -0.0009934164, 0....  \n",
              "2  [-0.004389453, 0.0047678924, 0.0024528443, 0.0...  \n",
              "3  [-0.00022083164, 0.0016568744, -0.0008546484, ...  "
            ],
            "text/html": [
              "\n",
              "  <div id=\"df-05f95083-810c-4b6e-a720-21b7ff0bf23c\">\n",
              "    <div class=\"colab-df-container\">\n",
              "      <div>\n",
              "<style scoped>\n",
              "    .dataframe tbody tr th:only-of-type {\n",
              "        vertical-align: middle;\n",
              "    }\n",
              "\n",
              "    .dataframe tbody tr th {\n",
              "        vertical-align: top;\n",
              "    }\n",
              "\n",
              "    .dataframe thead th {\n",
              "        text-align: right;\n",
              "    }\n",
              "</style>\n",
              "<table border=\"1\" class=\"dataframe\">\n",
              "  <thead>\n",
              "    <tr style=\"text-align: right;\">\n",
              "      <th></th>\n",
              "      <th>text</th>\n",
              "      <th>clean_text_stem</th>\n",
              "      <th>text_length_stem</th>\n",
              "      <th>clean_text_lemma</th>\n",
              "      <th>text_length_lemma</th>\n",
              "      <th>tokenised_sentences</th>\n",
              "      <th>doc_vector_w2v</th>\n",
              "    </tr>\n",
              "  </thead>\n",
              "  <tbody>\n",
              "    <tr>\n",
              "      <th>0</th>\n",
              "      <td>it Was the best oF Times $</td>\n",
              "      <td>best time</td>\n",
              "      <td>2</td>\n",
              "      <td>best time</td>\n",
              "      <td>2</td>\n",
              "      <td>[best, time]</td>\n",
              "      <td>[-0.008673586, 0.0028979492, 0.0021581696, -0....</td>\n",
              "    </tr>\n",
              "    <tr>\n",
              "      <th>1</th>\n",
              "      <td>It was The worst of 23times.</td>\n",
              "      <td>worst time</td>\n",
              "      <td>2</td>\n",
              "      <td>worst time</td>\n",
              "      <td>2</td>\n",
              "      <td>[worst, time]</td>\n",
              "      <td>[-0.007879351, 0.0024533845, -0.0009934164, 0....</td>\n",
              "    </tr>\n",
              "    <tr>\n",
              "      <th>2</th>\n",
              "      <td>IT 9 was tHe age Of wisdom</td>\n",
              "      <td>age wisdom</td>\n",
              "      <td>2</td>\n",
              "      <td>age wisdom</td>\n",
              "      <td>2</td>\n",
              "      <td>[age, wisdom]</td>\n",
              "      <td>[-0.004389453, 0.0047678924, 0.0024528443, 0.0...</td>\n",
              "    </tr>\n",
              "    <tr>\n",
              "      <th>3</th>\n",
              "      <td>it was thE %age of foolishness</td>\n",
              "      <td>age foolish</td>\n",
              "      <td>2</td>\n",
              "      <td>age foolishness</td>\n",
              "      <td>2</td>\n",
              "      <td>[age, foolish]</td>\n",
              "      <td>[-0.00022083164, 0.0016568744, -0.0008546484, ...</td>\n",
              "    </tr>\n",
              "  </tbody>\n",
              "</table>\n",
              "</div>\n",
              "      <button class=\"colab-df-convert\" onclick=\"convertToInteractive('df-05f95083-810c-4b6e-a720-21b7ff0bf23c')\"\n",
              "              title=\"Convert this dataframe to an interactive table.\"\n",
              "              style=\"display:none;\">\n",
              "        \n",
              "  <svg xmlns=\"http://www.w3.org/2000/svg\" height=\"24px\"viewBox=\"0 0 24 24\"\n",
              "       width=\"24px\">\n",
              "    <path d=\"M0 0h24v24H0V0z\" fill=\"none\"/>\n",
              "    <path d=\"M18.56 5.44l.94 2.06.94-2.06 2.06-.94-2.06-.94-.94-2.06-.94 2.06-2.06.94zm-11 1L8.5 8.5l.94-2.06 2.06-.94-2.06-.94L8.5 2.5l-.94 2.06-2.06.94zm10 10l.94 2.06.94-2.06 2.06-.94-2.06-.94-.94-2.06-.94 2.06-2.06.94z\"/><path d=\"M17.41 7.96l-1.37-1.37c-.4-.4-.92-.59-1.43-.59-.52 0-1.04.2-1.43.59L10.3 9.45l-7.72 7.72c-.78.78-.78 2.05 0 2.83L4 21.41c.39.39.9.59 1.41.59.51 0 1.02-.2 1.41-.59l7.78-7.78 2.81-2.81c.8-.78.8-2.07 0-2.86zM5.41 20L4 18.59l7.72-7.72 1.47 1.35L5.41 20z\"/>\n",
              "  </svg>\n",
              "      </button>\n",
              "      \n",
              "  <style>\n",
              "    .colab-df-container {\n",
              "      display:flex;\n",
              "      flex-wrap:wrap;\n",
              "      gap: 12px;\n",
              "    }\n",
              "\n",
              "    .colab-df-convert {\n",
              "      background-color: #E8F0FE;\n",
              "      border: none;\n",
              "      border-radius: 50%;\n",
              "      cursor: pointer;\n",
              "      display: none;\n",
              "      fill: #1967D2;\n",
              "      height: 32px;\n",
              "      padding: 0 0 0 0;\n",
              "      width: 32px;\n",
              "    }\n",
              "\n",
              "    .colab-df-convert:hover {\n",
              "      background-color: #E2EBFA;\n",
              "      box-shadow: 0px 1px 2px rgba(60, 64, 67, 0.3), 0px 1px 3px 1px rgba(60, 64, 67, 0.15);\n",
              "      fill: #174EA6;\n",
              "    }\n",
              "\n",
              "    [theme=dark] .colab-df-convert {\n",
              "      background-color: #3B4455;\n",
              "      fill: #D2E3FC;\n",
              "    }\n",
              "\n",
              "    [theme=dark] .colab-df-convert:hover {\n",
              "      background-color: #434B5C;\n",
              "      box-shadow: 0px 1px 3px 1px rgba(0, 0, 0, 0.15);\n",
              "      filter: drop-shadow(0px 1px 2px rgba(0, 0, 0, 0.3));\n",
              "      fill: #FFFFFF;\n",
              "    }\n",
              "  </style>\n",
              "\n",
              "      <script>\n",
              "        const buttonEl =\n",
              "          document.querySelector('#df-05f95083-810c-4b6e-a720-21b7ff0bf23c button.colab-df-convert');\n",
              "        buttonEl.style.display =\n",
              "          google.colab.kernel.accessAllowed ? 'block' : 'none';\n",
              "\n",
              "        async function convertToInteractive(key) {\n",
              "          const element = document.querySelector('#df-05f95083-810c-4b6e-a720-21b7ff0bf23c');\n",
              "          const dataTable =\n",
              "            await google.colab.kernel.invokeFunction('convertToInteractive',\n",
              "                                                     [key], {});\n",
              "          if (!dataTable) return;\n",
              "\n",
              "          const docLinkHtml = 'Like what you see? Visit the ' +\n",
              "            '<a target=\"_blank\" href=https://colab.research.google.com/notebooks/data_table.ipynb>data table notebook</a>'\n",
              "            + ' to learn more about interactive tables.';\n",
              "          element.innerHTML = '';\n",
              "          dataTable['output_type'] = 'display_data';\n",
              "          await google.colab.output.renderOutput(dataTable, element);\n",
              "          const docLink = document.createElement('div');\n",
              "          docLink.innerHTML = docLinkHtml;\n",
              "          element.appendChild(docLink);\n",
              "        }\n",
              "      </script>\n",
              "    </div>\n",
              "  </div>\n",
              "  "
            ]
          },
          "metadata": {},
          "execution_count": 60
        }
      ]
    },
    {
      "cell_type": "code",
      "source": [],
      "metadata": {
        "id": "jRGRsnU-4gqY"
      },
      "id": "jRGRsnU-4gqY",
      "execution_count": null,
      "outputs": []
    }
  ],
  "metadata": {
    "kernelspec": {
      "display_name": "Python 3 (ipykernel)",
      "language": "python",
      "name": "python3"
    },
    "language_info": {
      "codemirror_mode": {
        "name": "ipython",
        "version": 3
      },
      "file_extension": ".py",
      "mimetype": "text/x-python",
      "name": "python",
      "nbconvert_exporter": "python",
      "pygments_lexer": "ipython3",
      "version": "3.7.13"
    },
    "colab": {
      "provenance": [],
      "collapsed_sections": [
        "1c641286",
        "ee5851fa",
        "92f44afb"
      ],
      "include_colab_link": true
    }
  },
  "nbformat": 4,
  "nbformat_minor": 5
}
